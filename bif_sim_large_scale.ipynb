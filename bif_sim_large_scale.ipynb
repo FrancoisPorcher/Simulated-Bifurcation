{
 "cells": [
  {
   "cell_type": "markdown",
   "metadata": {},
   "source": [
    "# Simulated Birfucation on a large scale"
   ]
  },
  {
   "cell_type": "markdown",
   "metadata": {},
   "source": [
    "### Libraries"
   ]
  },
  {
   "cell_type": "code",
   "execution_count": 1,
   "metadata": {},
   "outputs": [],
   "source": [
    "%load_ext autoreload\n",
    "%autoreload 2\n",
    "from matplotlib import pyplot as plt\n",
    "\n",
    "from models.simulated_bifurcation import simulated_bifurcation\n",
    "#from charts import pie, table\n",
    "#from csv_reader import csv_to_matrix\n",
    "#from data.assets import assets\n",
    "\n",
    "import pandas as pd\n",
    "import numpy as np\n",
    "import time\n",
    "import bahc "
   ]
  },
  {
   "cell_type": "code",
   "execution_count": 2,
   "metadata": {
    "scrolled": true
   },
   "outputs": [],
   "source": [
    "# Reading the CSV file, parsing dates\n",
    "rets=pd.read_csv(\"russell1000.csv\", parse_dates=True, index_col = 0)\n",
    "\n",
    "# Defining the list of tickers from the DataFrame\n",
    "tickers = [*rets.columns]"
   ]
  },
  {
   "cell_type": "code",
   "execution_count": 20,
   "metadata": {},
   "outputs": [
    {
     "data": {
      "text/html": [
       "<div>\n",
       "<style scoped>\n",
       "    .dataframe tbody tr th:only-of-type {\n",
       "        vertical-align: middle;\n",
       "    }\n",
       "\n",
       "    .dataframe tbody tr th {\n",
       "        vertical-align: top;\n",
       "    }\n",
       "\n",
       "    .dataframe thead th {\n",
       "        text-align: right;\n",
       "    }\n",
       "</style>\n",
       "<table border=\"1\" class=\"dataframe\">\n",
       "  <thead>\n",
       "    <tr style=\"text-align: right;\">\n",
       "      <th></th>\n",
       "      <th>A</th>\n",
       "      <th>AA</th>\n",
       "      <th>AAN</th>\n",
       "      <th>AAP</th>\n",
       "      <th>AAPL</th>\n",
       "      <th>ABC</th>\n",
       "      <th>ABT</th>\n",
       "      <th>ACGL</th>\n",
       "      <th>ACM</th>\n",
       "      <th>ACN</th>\n",
       "      <th>...</th>\n",
       "      <th>XEL</th>\n",
       "      <th>XL</th>\n",
       "      <th>XLNX</th>\n",
       "      <th>XOM</th>\n",
       "      <th>XRAY</th>\n",
       "      <th>XRX</th>\n",
       "      <th>Y</th>\n",
       "      <th>YUM</th>\n",
       "      <th>ZBRA</th>\n",
       "      <th>ZION</th>\n",
       "    </tr>\n",
       "    <tr>\n",
       "      <th>index</th>\n",
       "      <th></th>\n",
       "      <th></th>\n",
       "      <th></th>\n",
       "      <th></th>\n",
       "      <th></th>\n",
       "      <th></th>\n",
       "      <th></th>\n",
       "      <th></th>\n",
       "      <th></th>\n",
       "      <th></th>\n",
       "      <th></th>\n",
       "      <th></th>\n",
       "      <th></th>\n",
       "      <th></th>\n",
       "      <th></th>\n",
       "      <th></th>\n",
       "      <th></th>\n",
       "      <th></th>\n",
       "      <th></th>\n",
       "      <th></th>\n",
       "      <th></th>\n",
       "    </tr>\n",
       "  </thead>\n",
       "  <tbody>\n",
       "    <tr>\n",
       "      <th>2005-01-03 05:00:00+00:00</th>\n",
       "      <td>-0.009171</td>\n",
       "      <td>-0.013780</td>\n",
       "      <td>-0.013544</td>\n",
       "      <td>-0.002981</td>\n",
       "      <td>-0.016597</td>\n",
       "      <td>-0.009073</td>\n",
       "      <td>0.000429</td>\n",
       "      <td>-0.015625</td>\n",
       "      <td>NaN</td>\n",
       "      <td>-0.023610</td>\n",
       "      <td>...</td>\n",
       "      <td>-0.009939</td>\n",
       "      <td>-0.014921</td>\n",
       "      <td>-0.010851</td>\n",
       "      <td>-0.023089</td>\n",
       "      <td>-0.010014</td>\n",
       "      <td>-0.002354</td>\n",
       "      <td>0.002276</td>\n",
       "      <td>-0.007660</td>\n",
       "      <td>-0.015579</td>\n",
       "      <td>-0.009452</td>\n",
       "    </tr>\n",
       "    <tr>\n",
       "      <th>2005-01-04 05:00:00+00:00</th>\n",
       "      <td>-0.026736</td>\n",
       "      <td>-0.018236</td>\n",
       "      <td>-0.046520</td>\n",
       "      <td>-0.006681</td>\n",
       "      <td>0.009428</td>\n",
       "      <td>-0.007942</td>\n",
       "      <td>-0.010122</td>\n",
       "      <td>-0.013210</td>\n",
       "      <td>NaN</td>\n",
       "      <td>-0.023792</td>\n",
       "      <td>...</td>\n",
       "      <td>-0.015097</td>\n",
       "      <td>0.002350</td>\n",
       "      <td>-0.030814</td>\n",
       "      <td>-0.006811</td>\n",
       "      <td>-0.008121</td>\n",
       "      <td>-0.014841</td>\n",
       "      <td>-0.019068</td>\n",
       "      <td>-0.013331</td>\n",
       "      <td>-0.017110</td>\n",
       "      <td>-0.013746</td>\n",
       "    </tr>\n",
       "    <tr>\n",
       "      <th>2005-01-05 05:00:00+00:00</th>\n",
       "      <td>-0.000430</td>\n",
       "      <td>-0.005933</td>\n",
       "      <td>0.010422</td>\n",
       "      <td>0.001848</td>\n",
       "      <td>0.008720</td>\n",
       "      <td>-0.001909</td>\n",
       "      <td>-0.011538</td>\n",
       "      <td>-0.005868</td>\n",
       "      <td>NaN</td>\n",
       "      <td>-0.003891</td>\n",
       "      <td>...</td>\n",
       "      <td>-0.011332</td>\n",
       "      <td>-0.009566</td>\n",
       "      <td>-0.032157</td>\n",
       "      <td>-0.005240</td>\n",
       "      <td>-0.011847</td>\n",
       "      <td>-0.019934</td>\n",
       "      <td>-0.008917</td>\n",
       "      <td>-0.002384</td>\n",
       "      <td>-0.035504</td>\n",
       "      <td>-0.003617</td>\n",
       "    </tr>\n",
       "    <tr>\n",
       "      <th>2005-01-06 05:00:00+00:00</th>\n",
       "      <td>-0.022189</td>\n",
       "      <td>0.004288</td>\n",
       "      <td>-0.010422</td>\n",
       "      <td>-0.000923</td>\n",
       "      <td>0.000775</td>\n",
       "      <td>0.008474</td>\n",
       "      <td>0.022303</td>\n",
       "      <td>-0.001339</td>\n",
       "      <td>NaN</td>\n",
       "      <td>-0.009007</td>\n",
       "      <td>...</td>\n",
       "      <td>-0.001711</td>\n",
       "      <td>0.000658</td>\n",
       "      <td>-0.016106</td>\n",
       "      <td>0.012650</td>\n",
       "      <td>0.004756</td>\n",
       "      <td>-0.004280</td>\n",
       "      <td>-0.014456</td>\n",
       "      <td>0.011219</td>\n",
       "      <td>0.001521</td>\n",
       "      <td>0.005721</td>\n",
       "    </tr>\n",
       "    <tr>\n",
       "      <th>2005-01-07 05:00:00+00:00</th>\n",
       "      <td>-0.000880</td>\n",
       "      <td>0.010152</td>\n",
       "      <td>-0.042311</td>\n",
       "      <td>-0.005790</td>\n",
       "      <td>0.070283</td>\n",
       "      <td>-0.002932</td>\n",
       "      <td>0.016986</td>\n",
       "      <td>0.010393</td>\n",
       "      <td>NaN</td>\n",
       "      <td>0.045751</td>\n",
       "      <td>...</td>\n",
       "      <td>-0.005724</td>\n",
       "      <td>0.001184</td>\n",
       "      <td>0.008451</td>\n",
       "      <td>-0.006606</td>\n",
       "      <td>-0.007694</td>\n",
       "      <td>-0.005530</td>\n",
       "      <td>-0.003729</td>\n",
       "      <td>-0.005594</td>\n",
       "      <td>0.008511</td>\n",
       "      <td>-0.024621</td>\n",
       "    </tr>\n",
       "  </tbody>\n",
       "</table>\n",
       "<p>5 rows × 723 columns</p>\n",
       "</div>"
      ],
      "text/plain": [
       "                                  A        AA       AAN       AAP      AAPL  \\\n",
       "index                                                                         \n",
       "2005-01-03 05:00:00+00:00 -0.009171 -0.013780 -0.013544 -0.002981 -0.016597   \n",
       "2005-01-04 05:00:00+00:00 -0.026736 -0.018236 -0.046520 -0.006681  0.009428   \n",
       "2005-01-05 05:00:00+00:00 -0.000430 -0.005933  0.010422  0.001848  0.008720   \n",
       "2005-01-06 05:00:00+00:00 -0.022189  0.004288 -0.010422 -0.000923  0.000775   \n",
       "2005-01-07 05:00:00+00:00 -0.000880  0.010152 -0.042311 -0.005790  0.070283   \n",
       "\n",
       "                                ABC       ABT      ACGL  ACM       ACN  ...  \\\n",
       "index                                                                   ...   \n",
       "2005-01-03 05:00:00+00:00 -0.009073  0.000429 -0.015625  NaN -0.023610  ...   \n",
       "2005-01-04 05:00:00+00:00 -0.007942 -0.010122 -0.013210  NaN -0.023792  ...   \n",
       "2005-01-05 05:00:00+00:00 -0.001909 -0.011538 -0.005868  NaN -0.003891  ...   \n",
       "2005-01-06 05:00:00+00:00  0.008474  0.022303 -0.001339  NaN -0.009007  ...   \n",
       "2005-01-07 05:00:00+00:00 -0.002932  0.016986  0.010393  NaN  0.045751  ...   \n",
       "\n",
       "                                XEL        XL      XLNX       XOM      XRAY  \\\n",
       "index                                                                         \n",
       "2005-01-03 05:00:00+00:00 -0.009939 -0.014921 -0.010851 -0.023089 -0.010014   \n",
       "2005-01-04 05:00:00+00:00 -0.015097  0.002350 -0.030814 -0.006811 -0.008121   \n",
       "2005-01-05 05:00:00+00:00 -0.011332 -0.009566 -0.032157 -0.005240 -0.011847   \n",
       "2005-01-06 05:00:00+00:00 -0.001711  0.000658 -0.016106  0.012650  0.004756   \n",
       "2005-01-07 05:00:00+00:00 -0.005724  0.001184  0.008451 -0.006606 -0.007694   \n",
       "\n",
       "                                XRX         Y       YUM      ZBRA      ZION  \n",
       "index                                                                        \n",
       "2005-01-03 05:00:00+00:00 -0.002354  0.002276 -0.007660 -0.015579 -0.009452  \n",
       "2005-01-04 05:00:00+00:00 -0.014841 -0.019068 -0.013331 -0.017110 -0.013746  \n",
       "2005-01-05 05:00:00+00:00 -0.019934 -0.008917 -0.002384 -0.035504 -0.003617  \n",
       "2005-01-06 05:00:00+00:00 -0.004280 -0.014456  0.011219  0.001521  0.005721  \n",
       "2005-01-07 05:00:00+00:00 -0.005530 -0.003729 -0.005594  0.008511 -0.024621  \n",
       "\n",
       "[5 rows x 723 columns]"
      ]
     },
     "execution_count": 20,
     "metadata": {},
     "output_type": "execute_result"
    }
   ],
   "source": [
    "rets.head()"
   ]
  },
  {
   "cell_type": "code",
   "execution_count": 4,
   "metadata": {},
   "outputs": [
    {
     "data": {
      "text/plain": [
       "(3397, 723)"
      ]
     },
     "execution_count": 4,
     "metadata": {},
     "output_type": "execute_result"
    }
   ],
   "source": [
    "rets.shape"
   ]
  },
  {
   "cell_type": "code",
   "execution_count": 5,
   "metadata": {
    "scrolled": true
   },
   "outputs": [
    {
     "data": {
      "text/plain": [
       "723"
      ]
     },
     "execution_count": 5,
     "metadata": {},
     "output_type": "execute_result"
    }
   ],
   "source": [
    "len(tickers)"
   ]
  },
  {
   "cell_type": "markdown",
   "metadata": {},
   "source": [
    "# Optimisation"
   ]
  },
  {
   "cell_type": "code",
   "execution_count": 6,
   "metadata": {},
   "outputs": [],
   "source": [
    "alpha = 1  # num bits\n",
    "\n",
    "\n",
    "T=250\n",
    "\n",
    "dT=20\n",
    "\n",
    "Nmax=50\n",
    "\n",
    "t1s=np.arange(T,rets.shape[0],dT)"
   ]
  },
  {
   "cell_type": "code",
   "execution_count": 7,
   "metadata": {},
   "outputs": [
    {
     "data": {
      "text/plain": [
       "array([ 250,  270,  290,  310,  330,  350,  370,  390,  410,  430,  450,\n",
       "        470,  490,  510,  530,  550,  570,  590,  610,  630,  650,  670,\n",
       "        690,  710,  730,  750,  770,  790,  810,  830,  850,  870,  890,\n",
       "        910,  930,  950,  970,  990, 1010, 1030, 1050, 1070, 1090, 1110,\n",
       "       1130, 1150, 1170, 1190, 1210, 1230, 1250, 1270, 1290, 1310, 1330,\n",
       "       1350, 1370, 1390, 1410, 1430, 1450, 1470, 1490, 1510, 1530, 1550,\n",
       "       1570, 1590, 1610, 1630, 1650, 1670, 1690, 1710, 1730, 1750, 1770,\n",
       "       1790, 1810, 1830, 1850, 1870, 1890, 1910, 1930, 1950, 1970, 1990,\n",
       "       2010, 2030, 2050, 2070, 2090, 2110, 2130, 2150, 2170, 2190, 2210,\n",
       "       2230, 2250, 2270, 2290, 2310, 2330, 2350, 2370, 2390, 2410, 2430,\n",
       "       2450, 2470, 2490, 2510, 2530, 2550, 2570, 2590, 2610, 2630, 2650,\n",
       "       2670, 2690, 2710, 2730, 2750, 2770, 2790, 2810, 2830, 2850, 2870,\n",
       "       2890, 2910, 2930, 2950, 2970, 2990, 3010, 3030, 3050, 3070, 3090,\n",
       "       3110, 3130, 3150, 3170, 3190, 3210, 3230, 3250, 3270, 3290, 3310,\n",
       "       3330, 3350, 3370, 3390])"
      ]
     },
     "execution_count": 7,
     "metadata": {},
     "output_type": "execute_result"
    }
   ],
   "source": [
    "t1s"
   ]
  },
  {
   "cell_type": "code",
   "execution_count": 11,
   "metadata": {
    "scrolled": true
   },
   "outputs": [
    {
     "name": "stdout",
     "output_type": "stream",
     "text": [
      "t0 : 0\n",
      "There are 48 tickers before Optimization\n",
      "Shape of mu : (48, 1)\n",
      "Shape of sigma : (48, 48)\n",
      "Shape of the Matrix for Binary tranformation : (48, 48)\n"
     ]
    },
    {
     "name": "stderr",
     "output_type": "stream",
     "text": [
      "<ipython-input-11-e06b9047c178>:18: SettingWithCopyWarning:\n",
      "\n",
      "\n",
      "A value is trying to be set on a copy of a slice from a DataFrame\n",
      "\n",
      "See the caveats in the documentation: https://pandas.pydata.org/pandas-docs/stable/user_guide/indexing.html#returning-a-view-versus-a-copy\n",
      "\n"
     ]
    },
    {
     "name": "stdout",
     "output_type": "stream",
     "text": [
      "Run in 1.766 seconds.\n",
      "Number of selected assets in the portfolio : 15\n",
      "t0 : 20\n",
      "There are 46 tickers before Optimization\n",
      "Shape of mu : (46, 1)\n",
      "Shape of sigma : (46, 46)\n",
      "Shape of the Matrix for Binary tranformation : (46, 46)\n"
     ]
    },
    {
     "name": "stderr",
     "output_type": "stream",
     "text": [
      "<ipython-input-11-e06b9047c178>:18: SettingWithCopyWarning:\n",
      "\n",
      "\n",
      "A value is trying to be set on a copy of a slice from a DataFrame\n",
      "\n",
      "See the caveats in the documentation: https://pandas.pydata.org/pandas-docs/stable/user_guide/indexing.html#returning-a-view-versus-a-copy\n",
      "\n"
     ]
    },
    {
     "name": "stdout",
     "output_type": "stream",
     "text": [
      "Run in 2.021 seconds.\n",
      "Number of selected assets in the portfolio : 17\n",
      "t0 : 40\n",
      "There are 55 tickers before Optimization\n",
      "Shape of mu : (55, 1)\n",
      "Shape of sigma : (55, 55)\n",
      "Shape of the Matrix for Binary tranformation : (55, 55)\n"
     ]
    },
    {
     "name": "stderr",
     "output_type": "stream",
     "text": [
      "<ipython-input-11-e06b9047c178>:18: SettingWithCopyWarning:\n",
      "\n",
      "\n",
      "A value is trying to be set on a copy of a slice from a DataFrame\n",
      "\n",
      "See the caveats in the documentation: https://pandas.pydata.org/pandas-docs/stable/user_guide/indexing.html#returning-a-view-versus-a-copy\n",
      "\n"
     ]
    },
    {
     "name": "stdout",
     "output_type": "stream",
     "text": [
      "Run in 1.954 seconds.\n",
      "Number of selected assets in the portfolio : 15\n",
      "t0 : 60\n",
      "There are 56 tickers before Optimization\n",
      "Shape of mu : (56, 1)\n",
      "Shape of sigma : (56, 56)\n",
      "Shape of the Matrix for Binary tranformation : (56, 56)\n"
     ]
    },
    {
     "name": "stderr",
     "output_type": "stream",
     "text": [
      "<ipython-input-11-e06b9047c178>:18: SettingWithCopyWarning:\n",
      "\n",
      "\n",
      "A value is trying to be set on a copy of a slice from a DataFrame\n",
      "\n",
      "See the caveats in the documentation: https://pandas.pydata.org/pandas-docs/stable/user_guide/indexing.html#returning-a-view-versus-a-copy\n",
      "\n"
     ]
    },
    {
     "name": "stdout",
     "output_type": "stream",
     "text": [
      "Run in 1.698 seconds.\n",
      "Number of selected assets in the portfolio : 17\n",
      "t0 : 80\n",
      "There are 53 tickers before Optimization\n",
      "Shape of mu : (53, 1)\n",
      "Shape of sigma : (53, 53)\n",
      "Shape of the Matrix for Binary tranformation : (53, 53)\n"
     ]
    },
    {
     "name": "stderr",
     "output_type": "stream",
     "text": [
      "<ipython-input-11-e06b9047c178>:18: SettingWithCopyWarning:\n",
      "\n",
      "\n",
      "A value is trying to be set on a copy of a slice from a DataFrame\n",
      "\n",
      "See the caveats in the documentation: https://pandas.pydata.org/pandas-docs/stable/user_guide/indexing.html#returning-a-view-versus-a-copy\n",
      "\n"
     ]
    },
    {
     "name": "stdout",
     "output_type": "stream",
     "text": [
      "Run in 1.665 seconds.\n",
      "Number of selected assets in the portfolio : 21\n",
      "t0 : 100\n",
      "There are 58 tickers before Optimization\n",
      "Shape of mu : (58, 1)\n",
      "Shape of sigma : (58, 58)\n",
      "Shape of the Matrix for Binary tranformation : (58, 58)\n"
     ]
    },
    {
     "name": "stderr",
     "output_type": "stream",
     "text": [
      "<ipython-input-11-e06b9047c178>:18: SettingWithCopyWarning:\n",
      "\n",
      "\n",
      "A value is trying to be set on a copy of a slice from a DataFrame\n",
      "\n",
      "See the caveats in the documentation: https://pandas.pydata.org/pandas-docs/stable/user_guide/indexing.html#returning-a-view-versus-a-copy\n",
      "\n"
     ]
    },
    {
     "name": "stdout",
     "output_type": "stream",
     "text": [
      "Run in 2.226 seconds.\n",
      "Number of selected assets in the portfolio : 15\n",
      "t0 : 120\n",
      "There are 63 tickers before Optimization\n"
     ]
    },
    {
     "name": "stderr",
     "output_type": "stream",
     "text": [
      "<ipython-input-11-e06b9047c178>:18: SettingWithCopyWarning:\n",
      "\n",
      "\n",
      "A value is trying to be set on a copy of a slice from a DataFrame\n",
      "\n",
      "See the caveats in the documentation: https://pandas.pydata.org/pandas-docs/stable/user_guide/indexing.html#returning-a-view-versus-a-copy\n",
      "\n"
     ]
    },
    {
     "name": "stdout",
     "output_type": "stream",
     "text": [
      "Shape of mu : (63, 1)\n",
      "Shape of sigma : (63, 63)\n",
      "Shape of the Matrix for Binary tranformation : (63, 63)\n",
      "Run in 1.721 seconds.\n",
      "Number of selected assets in the portfolio : 13\n",
      "t0 : 140\n",
      "There are 68 tickers before Optimization\n"
     ]
    },
    {
     "name": "stderr",
     "output_type": "stream",
     "text": [
      "<ipython-input-11-e06b9047c178>:18: SettingWithCopyWarning:\n",
      "\n",
      "\n",
      "A value is trying to be set on a copy of a slice from a DataFrame\n",
      "\n",
      "See the caveats in the documentation: https://pandas.pydata.org/pandas-docs/stable/user_guide/indexing.html#returning-a-view-versus-a-copy\n",
      "\n"
     ]
    },
    {
     "name": "stdout",
     "output_type": "stream",
     "text": [
      "Shape of mu : (68, 1)\n",
      "Shape of sigma : (68, 68)\n",
      "Shape of the Matrix for Binary tranformation : (68, 68)\n",
      "Run in 2.041 seconds.\n",
      "Number of selected assets in the portfolio : 10\n",
      "t0 : 160\n",
      "There are 67 tickers before Optimization\n"
     ]
    },
    {
     "name": "stderr",
     "output_type": "stream",
     "text": [
      "<ipython-input-11-e06b9047c178>:18: SettingWithCopyWarning:\n",
      "\n",
      "\n",
      "A value is trying to be set on a copy of a slice from a DataFrame\n",
      "\n",
      "See the caveats in the documentation: https://pandas.pydata.org/pandas-docs/stable/user_guide/indexing.html#returning-a-view-versus-a-copy\n",
      "\n"
     ]
    },
    {
     "name": "stdout",
     "output_type": "stream",
     "text": [
      "Shape of mu : (67, 1)\n",
      "Shape of sigma : (67, 67)\n",
      "Shape of the Matrix for Binary tranformation : (67, 67)\n",
      "Run in 1.82 seconds.\n",
      "Number of selected assets in the portfolio : 12\n",
      "t0 : 180\n",
      "There are 70 tickers before Optimization\n",
      "Shape of mu : (70, 1)\n",
      "Shape of sigma : (70, 70)\n",
      "Shape of the Matrix for Binary tranformation : (70, 70)\n"
     ]
    },
    {
     "name": "stderr",
     "output_type": "stream",
     "text": [
      "<ipython-input-11-e06b9047c178>:18: SettingWithCopyWarning:\n",
      "\n",
      "\n",
      "A value is trying to be set on a copy of a slice from a DataFrame\n",
      "\n",
      "See the caveats in the documentation: https://pandas.pydata.org/pandas-docs/stable/user_guide/indexing.html#returning-a-view-versus-a-copy\n",
      "\n"
     ]
    },
    {
     "name": "stdout",
     "output_type": "stream",
     "text": [
      "Run in 1.956 seconds.\n",
      "Number of selected assets in the portfolio : 16\n",
      "t0 : 200\n",
      "There are 65 tickers before Optimization\n"
     ]
    },
    {
     "name": "stderr",
     "output_type": "stream",
     "text": [
      "<ipython-input-11-e06b9047c178>:18: SettingWithCopyWarning:\n",
      "\n",
      "\n",
      "A value is trying to be set on a copy of a slice from a DataFrame\n",
      "\n",
      "See the caveats in the documentation: https://pandas.pydata.org/pandas-docs/stable/user_guide/indexing.html#returning-a-view-versus-a-copy\n",
      "\n"
     ]
    },
    {
     "name": "stdout",
     "output_type": "stream",
     "text": [
      "Shape of mu : (65, 1)\n",
      "Shape of sigma : (65, 65)\n",
      "Shape of the Matrix for Binary tranformation : (65, 65)\n",
      "Run in 3.276 seconds.\n",
      "Number of selected assets in the portfolio : 15\n",
      "t0 : 220\n",
      "There are 64 tickers before Optimization\n",
      "Shape of mu : (64, 1)\n",
      "Shape of sigma : (64, 64)\n",
      "Shape of the Matrix for Binary tranformation : (64, 64)\n"
     ]
    },
    {
     "name": "stderr",
     "output_type": "stream",
     "text": [
      "<ipython-input-11-e06b9047c178>:18: SettingWithCopyWarning:\n",
      "\n",
      "\n",
      "A value is trying to be set on a copy of a slice from a DataFrame\n",
      "\n",
      "See the caveats in the documentation: https://pandas.pydata.org/pandas-docs/stable/user_guide/indexing.html#returning-a-view-versus-a-copy\n",
      "\n"
     ]
    },
    {
     "name": "stdout",
     "output_type": "stream",
     "text": [
      "Run in 1.695 seconds.\n",
      "Number of selected assets in the portfolio : 14\n",
      "t0 : 240\n",
      "There are 75 tickers before Optimization\n"
     ]
    },
    {
     "name": "stderr",
     "output_type": "stream",
     "text": [
      "<ipython-input-11-e06b9047c178>:18: SettingWithCopyWarning:\n",
      "\n",
      "\n",
      "A value is trying to be set on a copy of a slice from a DataFrame\n",
      "\n",
      "See the caveats in the documentation: https://pandas.pydata.org/pandas-docs/stable/user_guide/indexing.html#returning-a-view-versus-a-copy\n",
      "\n"
     ]
    },
    {
     "name": "stdout",
     "output_type": "stream",
     "text": [
      "Shape of mu : (75, 1)\n",
      "Shape of sigma : (75, 75)\n",
      "Shape of the Matrix for Binary tranformation : (75, 75)\n",
      "Run in 2.33 seconds.\n",
      "Number of selected assets in the portfolio : 17\n",
      "t0 : 260\n",
      "There are 74 tickers before Optimization\n"
     ]
    },
    {
     "name": "stderr",
     "output_type": "stream",
     "text": [
      "<ipython-input-11-e06b9047c178>:18: SettingWithCopyWarning:\n",
      "\n",
      "\n",
      "A value is trying to be set on a copy of a slice from a DataFrame\n",
      "\n",
      "See the caveats in the documentation: https://pandas.pydata.org/pandas-docs/stable/user_guide/indexing.html#returning-a-view-versus-a-copy\n",
      "\n"
     ]
    },
    {
     "name": "stdout",
     "output_type": "stream",
     "text": [
      "Shape of mu : (74, 1)\n",
      "Shape of sigma : (74, 74)\n",
      "Shape of the Matrix for Binary tranformation : (74, 74)\n",
      "Run in 2.609 seconds.\n",
      "Number of selected assets in the portfolio : 14\n",
      "t0 : 280\n",
      "There are 78 tickers before Optimization\n"
     ]
    },
    {
     "name": "stderr",
     "output_type": "stream",
     "text": [
      "<ipython-input-11-e06b9047c178>:18: SettingWithCopyWarning:\n",
      "\n",
      "\n",
      "A value is trying to be set on a copy of a slice from a DataFrame\n",
      "\n",
      "See the caveats in the documentation: https://pandas.pydata.org/pandas-docs/stable/user_guide/indexing.html#returning-a-view-versus-a-copy\n",
      "\n"
     ]
    },
    {
     "name": "stdout",
     "output_type": "stream",
     "text": [
      "Shape of mu : (78, 1)\n",
      "Shape of sigma : (78, 78)\n",
      "Shape of the Matrix for Binary tranformation : (78, 78)\n",
      "Run in 2.891 seconds.\n",
      "Number of selected assets in the portfolio : 17\n",
      "t0 : 300\n",
      "There are 74 tickers before Optimization\n"
     ]
    },
    {
     "name": "stderr",
     "output_type": "stream",
     "text": [
      "<ipython-input-11-e06b9047c178>:18: SettingWithCopyWarning:\n",
      "\n",
      "\n",
      "A value is trying to be set on a copy of a slice from a DataFrame\n",
      "\n",
      "See the caveats in the documentation: https://pandas.pydata.org/pandas-docs/stable/user_guide/indexing.html#returning-a-view-versus-a-copy\n",
      "\n"
     ]
    },
    {
     "name": "stdout",
     "output_type": "stream",
     "text": [
      "Shape of mu : (74, 1)\n",
      "Shape of sigma : (74, 74)\n",
      "Shape of the Matrix for Binary tranformation : (74, 74)\n",
      "Run in 2.542 seconds.\n",
      "Number of selected assets in the portfolio : 12\n",
      "t0 : 320\n",
      "There are 76 tickers before Optimization\n"
     ]
    },
    {
     "name": "stderr",
     "output_type": "stream",
     "text": [
      "<ipython-input-11-e06b9047c178>:18: SettingWithCopyWarning:\n",
      "\n",
      "\n",
      "A value is trying to be set on a copy of a slice from a DataFrame\n",
      "\n",
      "See the caveats in the documentation: https://pandas.pydata.org/pandas-docs/stable/user_guide/indexing.html#returning-a-view-versus-a-copy\n",
      "\n"
     ]
    },
    {
     "name": "stdout",
     "output_type": "stream",
     "text": [
      "Shape of mu : (76, 1)\n",
      "Shape of sigma : (76, 76)\n",
      "Shape of the Matrix for Binary tranformation : (76, 76)\n",
      "Run in 3.286 seconds.\n",
      "Number of selected assets in the portfolio : 12\n",
      "t0 : 340\n",
      "There are 79 tickers before Optimization\n"
     ]
    },
    {
     "name": "stderr",
     "output_type": "stream",
     "text": [
      "<ipython-input-11-e06b9047c178>:18: SettingWithCopyWarning:\n",
      "\n",
      "\n",
      "A value is trying to be set on a copy of a slice from a DataFrame\n",
      "\n",
      "See the caveats in the documentation: https://pandas.pydata.org/pandas-docs/stable/user_guide/indexing.html#returning-a-view-versus-a-copy\n",
      "\n"
     ]
    },
    {
     "name": "stdout",
     "output_type": "stream",
     "text": [
      "Shape of mu : (79, 1)\n",
      "Shape of sigma : (79, 79)\n",
      "Shape of the Matrix for Binary tranformation : (79, 79)\n",
      "Run in 4.495 seconds.\n",
      "Number of selected assets in the portfolio : 10\n",
      "t0 : 360\n",
      "There are 77 tickers before Optimization\n"
     ]
    },
    {
     "name": "stderr",
     "output_type": "stream",
     "text": [
      "<ipython-input-11-e06b9047c178>:18: SettingWithCopyWarning:\n",
      "\n",
      "\n",
      "A value is trying to be set on a copy of a slice from a DataFrame\n",
      "\n",
      "See the caveats in the documentation: https://pandas.pydata.org/pandas-docs/stable/user_guide/indexing.html#returning-a-view-versus-a-copy\n",
      "\n"
     ]
    },
    {
     "name": "stdout",
     "output_type": "stream",
     "text": [
      "Shape of mu : (77, 1)\n",
      "Shape of sigma : (77, 77)\n",
      "Shape of the Matrix for Binary tranformation : (77, 77)\n",
      "Run in 4.014 seconds.\n",
      "Number of selected assets in the portfolio : 14\n",
      "t0 : 380\n",
      "There are 78 tickers before Optimization\n"
     ]
    },
    {
     "name": "stderr",
     "output_type": "stream",
     "text": [
      "<ipython-input-11-e06b9047c178>:18: SettingWithCopyWarning:\n",
      "\n",
      "\n",
      "A value is trying to be set on a copy of a slice from a DataFrame\n",
      "\n",
      "See the caveats in the documentation: https://pandas.pydata.org/pandas-docs/stable/user_guide/indexing.html#returning-a-view-versus-a-copy\n",
      "\n"
     ]
    },
    {
     "name": "stdout",
     "output_type": "stream",
     "text": [
      "Shape of mu : (78, 1)\n",
      "Shape of sigma : (78, 78)\n",
      "Shape of the Matrix for Binary tranformation : (78, 78)\n",
      "Run in 2.453 seconds.\n",
      "Number of selected assets in the portfolio : 19\n",
      "t0 : 400\n",
      "There are 81 tickers before Optimization\n"
     ]
    },
    {
     "name": "stderr",
     "output_type": "stream",
     "text": [
      "<ipython-input-11-e06b9047c178>:18: SettingWithCopyWarning:\n",
      "\n",
      "\n",
      "A value is trying to be set on a copy of a slice from a DataFrame\n",
      "\n",
      "See the caveats in the documentation: https://pandas.pydata.org/pandas-docs/stable/user_guide/indexing.html#returning-a-view-versus-a-copy\n",
      "\n"
     ]
    },
    {
     "name": "stdout",
     "output_type": "stream",
     "text": [
      "Shape of mu : (81, 1)\n",
      "Shape of sigma : (81, 81)\n",
      "Shape of the Matrix for Binary tranformation : (81, 81)\n",
      "Run in 3.036 seconds.\n",
      "Number of selected assets in the portfolio : 17\n",
      "t0 : 420\n",
      "There are 86 tickers before Optimization\n"
     ]
    },
    {
     "name": "stderr",
     "output_type": "stream",
     "text": [
      "<ipython-input-11-e06b9047c178>:18: SettingWithCopyWarning:\n",
      "\n",
      "\n",
      "A value is trying to be set on a copy of a slice from a DataFrame\n",
      "\n",
      "See the caveats in the documentation: https://pandas.pydata.org/pandas-docs/stable/user_guide/indexing.html#returning-a-view-versus-a-copy\n",
      "\n"
     ]
    },
    {
     "name": "stdout",
     "output_type": "stream",
     "text": [
      "Shape of mu : (86, 1)\n",
      "Shape of sigma : (86, 86)\n",
      "Shape of the Matrix for Binary tranformation : (86, 86)\n",
      "Run in 2.608 seconds.\n",
      "Number of selected assets in the portfolio : 11\n",
      "t0 : 440\n",
      "There are 89 tickers before Optimization\n"
     ]
    },
    {
     "name": "stderr",
     "output_type": "stream",
     "text": [
      "<ipython-input-11-e06b9047c178>:18: SettingWithCopyWarning:\n",
      "\n",
      "\n",
      "A value is trying to be set on a copy of a slice from a DataFrame\n",
      "\n",
      "See the caveats in the documentation: https://pandas.pydata.org/pandas-docs/stable/user_guide/indexing.html#returning-a-view-versus-a-copy\n",
      "\n"
     ]
    },
    {
     "name": "stdout",
     "output_type": "stream",
     "text": [
      "Shape of mu : (89, 1)\n",
      "Shape of sigma : (89, 89)\n",
      "Shape of the Matrix for Binary tranformation : (89, 89)\n",
      "Run in 2.573 seconds.\n",
      "Number of selected assets in the portfolio : 15\n",
      "t0 : 460\n",
      "There are 92 tickers before Optimization\n"
     ]
    },
    {
     "name": "stderr",
     "output_type": "stream",
     "text": [
      "<ipython-input-11-e06b9047c178>:18: SettingWithCopyWarning:\n",
      "\n",
      "\n",
      "A value is trying to be set on a copy of a slice from a DataFrame\n",
      "\n",
      "See the caveats in the documentation: https://pandas.pydata.org/pandas-docs/stable/user_guide/indexing.html#returning-a-view-versus-a-copy\n",
      "\n"
     ]
    },
    {
     "name": "stdout",
     "output_type": "stream",
     "text": [
      "Shape of mu : (92, 1)\n",
      "Shape of sigma : (92, 92)\n",
      "Shape of the Matrix for Binary tranformation : (92, 92)\n",
      "Run in 2.137 seconds.\n",
      "Number of selected assets in the portfolio : 14\n",
      "t0 : 480\n",
      "There are 105 tickers before Optimization\n"
     ]
    },
    {
     "name": "stderr",
     "output_type": "stream",
     "text": [
      "<ipython-input-11-e06b9047c178>:18: SettingWithCopyWarning:\n",
      "\n",
      "\n",
      "A value is trying to be set on a copy of a slice from a DataFrame\n",
      "\n",
      "See the caveats in the documentation: https://pandas.pydata.org/pandas-docs/stable/user_guide/indexing.html#returning-a-view-versus-a-copy\n",
      "\n"
     ]
    },
    {
     "name": "stdout",
     "output_type": "stream",
     "text": [
      "Shape of mu : (105, 1)\n",
      "Shape of sigma : (105, 105)\n",
      "Shape of the Matrix for Binary tranformation : (105, 105)\n",
      "Run in 3.262 seconds.\n",
      "Number of selected assets in the portfolio : 9\n",
      "t0 : 500\n",
      "There are 106 tickers before Optimization\n"
     ]
    },
    {
     "name": "stderr",
     "output_type": "stream",
     "text": [
      "<ipython-input-11-e06b9047c178>:18: SettingWithCopyWarning:\n",
      "\n",
      "\n",
      "A value is trying to be set on a copy of a slice from a DataFrame\n",
      "\n",
      "See the caveats in the documentation: https://pandas.pydata.org/pandas-docs/stable/user_guide/indexing.html#returning-a-view-versus-a-copy\n",
      "\n"
     ]
    },
    {
     "name": "stdout",
     "output_type": "stream",
     "text": [
      "Shape of mu : (106, 1)\n",
      "Shape of sigma : (106, 106)\n",
      "Shape of the Matrix for Binary tranformation : (106, 106)\n",
      "Run in 3.112 seconds.\n",
      "Number of selected assets in the portfolio : 7\n",
      "t0 : 520\n",
      "There are 114 tickers before Optimization\n"
     ]
    },
    {
     "name": "stderr",
     "output_type": "stream",
     "text": [
      "<ipython-input-11-e06b9047c178>:18: SettingWithCopyWarning:\n",
      "\n",
      "\n",
      "A value is trying to be set on a copy of a slice from a DataFrame\n",
      "\n",
      "See the caveats in the documentation: https://pandas.pydata.org/pandas-docs/stable/user_guide/indexing.html#returning-a-view-versus-a-copy\n",
      "\n"
     ]
    },
    {
     "name": "stdout",
     "output_type": "stream",
     "text": [
      "Shape of mu : (114, 1)\n",
      "Shape of sigma : (114, 114)\n",
      "Shape of the Matrix for Binary tranformation : (114, 114)\n",
      "Run in 3.509 seconds.\n",
      "Number of selected assets in the portfolio : 3\n",
      "t0 : 540\n",
      "There are 127 tickers before Optimization\n"
     ]
    },
    {
     "name": "stderr",
     "output_type": "stream",
     "text": [
      "<ipython-input-11-e06b9047c178>:18: SettingWithCopyWarning:\n",
      "\n",
      "\n",
      "A value is trying to be set on a copy of a slice from a DataFrame\n",
      "\n",
      "See the caveats in the documentation: https://pandas.pydata.org/pandas-docs/stable/user_guide/indexing.html#returning-a-view-versus-a-copy\n",
      "\n"
     ]
    },
    {
     "name": "stdout",
     "output_type": "stream",
     "text": [
      "Shape of mu : (127, 1)\n",
      "Shape of sigma : (127, 127)\n",
      "Shape of the Matrix for Binary tranformation : (127, 127)\n",
      "Run in 2.857 seconds.\n",
      "Number of selected assets in the portfolio : 2\n",
      "t0 : 560\n",
      "There are 137 tickers before Optimization\n"
     ]
    },
    {
     "name": "stderr",
     "output_type": "stream",
     "text": [
      "<ipython-input-11-e06b9047c178>:18: SettingWithCopyWarning:\n",
      "\n",
      "\n",
      "A value is trying to be set on a copy of a slice from a DataFrame\n",
      "\n",
      "See the caveats in the documentation: https://pandas.pydata.org/pandas-docs/stable/user_guide/indexing.html#returning-a-view-versus-a-copy\n",
      "\n"
     ]
    },
    {
     "name": "stdout",
     "output_type": "stream",
     "text": [
      "Shape of mu : (137, 1)\n",
      "Shape of sigma : (137, 137)\n",
      "Shape of the Matrix for Binary tranformation : (137, 137)\n",
      "Run in 2.587 seconds.\n",
      "Number of selected assets in the portfolio : 1\n",
      "t0 : 580\n",
      "There are 147 tickers before Optimization\n"
     ]
    },
    {
     "name": "stderr",
     "output_type": "stream",
     "text": [
      "<ipython-input-11-e06b9047c178>:18: SettingWithCopyWarning:\n",
      "\n",
      "\n",
      "A value is trying to be set on a copy of a slice from a DataFrame\n",
      "\n",
      "See the caveats in the documentation: https://pandas.pydata.org/pandas-docs/stable/user_guide/indexing.html#returning-a-view-versus-a-copy\n",
      "\n"
     ]
    },
    {
     "name": "stdout",
     "output_type": "stream",
     "text": [
      "Shape of mu : (147, 1)\n",
      "Shape of sigma : (147, 147)\n",
      "Shape of the Matrix for Binary tranformation : (147, 147)\n",
      "Run in 3.096 seconds.\n",
      "Number of selected assets in the portfolio : 1\n",
      "t0 : 600\n",
      "There are 150 tickers before Optimization\n"
     ]
    },
    {
     "name": "stderr",
     "output_type": "stream",
     "text": [
      "<ipython-input-11-e06b9047c178>:18: SettingWithCopyWarning:\n",
      "\n",
      "\n",
      "A value is trying to be set on a copy of a slice from a DataFrame\n",
      "\n",
      "See the caveats in the documentation: https://pandas.pydata.org/pandas-docs/stable/user_guide/indexing.html#returning-a-view-versus-a-copy\n",
      "\n"
     ]
    },
    {
     "name": "stdout",
     "output_type": "stream",
     "text": [
      "Shape of mu : (150, 1)\n",
      "Shape of sigma : (150, 150)\n",
      "Shape of the Matrix for Binary tranformation : (150, 150)\n",
      "Run in 2.574 seconds.\n",
      "Number of selected assets in the portfolio : 1\n",
      "t0 : 620\n",
      "There are 157 tickers before Optimization\n"
     ]
    },
    {
     "name": "stderr",
     "output_type": "stream",
     "text": [
      "<ipython-input-11-e06b9047c178>:18: SettingWithCopyWarning:\n",
      "\n",
      "\n",
      "A value is trying to be set on a copy of a slice from a DataFrame\n",
      "\n",
      "See the caveats in the documentation: https://pandas.pydata.org/pandas-docs/stable/user_guide/indexing.html#returning-a-view-versus-a-copy\n",
      "\n"
     ]
    },
    {
     "name": "stdout",
     "output_type": "stream",
     "text": [
      "Shape of mu : (157, 1)\n",
      "Shape of sigma : (157, 157)\n",
      "Shape of the Matrix for Binary tranformation : (157, 157)\n",
      "Run in 2.645 seconds.\n",
      "Number of selected assets in the portfolio : 1\n",
      "t0 : 640\n",
      "There are 164 tickers before Optimization\n"
     ]
    },
    {
     "name": "stderr",
     "output_type": "stream",
     "text": [
      "<ipython-input-11-e06b9047c178>:18: SettingWithCopyWarning:\n",
      "\n",
      "\n",
      "A value is trying to be set on a copy of a slice from a DataFrame\n",
      "\n",
      "See the caveats in the documentation: https://pandas.pydata.org/pandas-docs/stable/user_guide/indexing.html#returning-a-view-versus-a-copy\n",
      "\n"
     ]
    },
    {
     "name": "stdout",
     "output_type": "stream",
     "text": [
      "Shape of mu : (164, 1)\n",
      "Shape of sigma : (164, 164)\n",
      "Shape of the Matrix for Binary tranformation : (164, 164)\n",
      "Run in 2.499 seconds.\n",
      "Number of selected assets in the portfolio : 2\n",
      "t0 : 660\n",
      "There are 160 tickers before Optimization\n"
     ]
    },
    {
     "name": "stderr",
     "output_type": "stream",
     "text": [
      "<ipython-input-11-e06b9047c178>:18: SettingWithCopyWarning:\n",
      "\n",
      "\n",
      "A value is trying to be set on a copy of a slice from a DataFrame\n",
      "\n",
      "See the caveats in the documentation: https://pandas.pydata.org/pandas-docs/stable/user_guide/indexing.html#returning-a-view-versus-a-copy\n",
      "\n"
     ]
    },
    {
     "name": "stdout",
     "output_type": "stream",
     "text": [
      "Shape of mu : (160, 1)\n",
      "Shape of sigma : (160, 160)\n",
      "Shape of the Matrix for Binary tranformation : (160, 160)\n",
      "Run in 2.625 seconds.\n",
      "Number of selected assets in the portfolio : 0\n",
      "t0 : 680\n",
      "There are 168 tickers before Optimization\n"
     ]
    },
    {
     "name": "stderr",
     "output_type": "stream",
     "text": [
      "<ipython-input-11-e06b9047c178>:18: SettingWithCopyWarning:\n",
      "\n",
      "\n",
      "A value is trying to be set on a copy of a slice from a DataFrame\n",
      "\n",
      "See the caveats in the documentation: https://pandas.pydata.org/pandas-docs/stable/user_guide/indexing.html#returning-a-view-versus-a-copy\n",
      "\n"
     ]
    },
    {
     "name": "stdout",
     "output_type": "stream",
     "text": [
      "Shape of mu : (168, 1)\n",
      "Shape of sigma : (168, 168)\n",
      "Shape of the Matrix for Binary tranformation : (168, 168)\n",
      "Run in 2.726 seconds.\n",
      "Number of selected assets in the portfolio : 0\n",
      "t0 : 700\n",
      "There are 175 tickers before Optimization\n"
     ]
    },
    {
     "name": "stderr",
     "output_type": "stream",
     "text": [
      "<ipython-input-11-e06b9047c178>:18: SettingWithCopyWarning:\n",
      "\n",
      "\n",
      "A value is trying to be set on a copy of a slice from a DataFrame\n",
      "\n",
      "See the caveats in the documentation: https://pandas.pydata.org/pandas-docs/stable/user_guide/indexing.html#returning-a-view-versus-a-copy\n",
      "\n"
     ]
    },
    {
     "name": "stdout",
     "output_type": "stream",
     "text": [
      "Shape of mu : (175, 1)\n",
      "Shape of sigma : (175, 175)\n",
      "Shape of the Matrix for Binary tranformation : (175, 175)\n",
      "Run in 2.166 seconds.\n",
      "Number of selected assets in the portfolio : 0\n",
      "t0 : 720\n",
      "There are 183 tickers before Optimization\n"
     ]
    },
    {
     "name": "stderr",
     "output_type": "stream",
     "text": [
      "<ipython-input-11-e06b9047c178>:18: SettingWithCopyWarning:\n",
      "\n",
      "\n",
      "A value is trying to be set on a copy of a slice from a DataFrame\n",
      "\n",
      "See the caveats in the documentation: https://pandas.pydata.org/pandas-docs/stable/user_guide/indexing.html#returning-a-view-versus-a-copy\n",
      "\n"
     ]
    },
    {
     "name": "stdout",
     "output_type": "stream",
     "text": [
      "Shape of mu : (183, 1)\n",
      "Shape of sigma : (183, 183)\n",
      "Shape of the Matrix for Binary tranformation : (183, 183)\n",
      "Run in 2.812 seconds.\n",
      "Number of selected assets in the portfolio : 0\n",
      "t0 : 740\n",
      "There are 193 tickers before Optimization\n"
     ]
    },
    {
     "name": "stderr",
     "output_type": "stream",
     "text": [
      "<ipython-input-11-e06b9047c178>:18: SettingWithCopyWarning:\n",
      "\n",
      "\n",
      "A value is trying to be set on a copy of a slice from a DataFrame\n",
      "\n",
      "See the caveats in the documentation: https://pandas.pydata.org/pandas-docs/stable/user_guide/indexing.html#returning-a-view-versus-a-copy\n",
      "\n"
     ]
    },
    {
     "name": "stdout",
     "output_type": "stream",
     "text": [
      "Shape of mu : (193, 1)\n",
      "Shape of sigma : (193, 193)\n",
      "Shape of the Matrix for Binary tranformation : (193, 193)\n",
      "Run in 2.445 seconds.\n",
      "Number of selected assets in the portfolio : 0\n",
      "t0 : 760\n",
      "There are 195 tickers before Optimization\n"
     ]
    },
    {
     "name": "stderr",
     "output_type": "stream",
     "text": [
      "<ipython-input-11-e06b9047c178>:18: SettingWithCopyWarning:\n",
      "\n",
      "\n",
      "A value is trying to be set on a copy of a slice from a DataFrame\n",
      "\n",
      "See the caveats in the documentation: https://pandas.pydata.org/pandas-docs/stable/user_guide/indexing.html#returning-a-view-versus-a-copy\n",
      "\n"
     ]
    },
    {
     "name": "stdout",
     "output_type": "stream",
     "text": [
      "Shape of mu : (195, 1)\n",
      "Shape of sigma : (195, 195)\n",
      "Shape of the Matrix for Binary tranformation : (195, 195)\n",
      "Run in 2.675 seconds.\n",
      "Number of selected assets in the portfolio : 0\n",
      "t0 : 780\n",
      "There are 183 tickers before Optimization\n"
     ]
    },
    {
     "name": "stderr",
     "output_type": "stream",
     "text": [
      "<ipython-input-11-e06b9047c178>:18: SettingWithCopyWarning:\n",
      "\n",
      "\n",
      "A value is trying to be set on a copy of a slice from a DataFrame\n",
      "\n",
      "See the caveats in the documentation: https://pandas.pydata.org/pandas-docs/stable/user_guide/indexing.html#returning-a-view-versus-a-copy\n",
      "\n"
     ]
    },
    {
     "name": "stdout",
     "output_type": "stream",
     "text": [
      "Shape of mu : (183, 1)\n",
      "Shape of sigma : (183, 183)\n",
      "Shape of the Matrix for Binary tranformation : (183, 183)\n",
      "Run in 2.577 seconds.\n",
      "Number of selected assets in the portfolio : 0\n",
      "t0 : 800\n",
      "There are 177 tickers before Optimization\n"
     ]
    },
    {
     "name": "stderr",
     "output_type": "stream",
     "text": [
      "<ipython-input-11-e06b9047c178>:18: SettingWithCopyWarning:\n",
      "\n",
      "\n",
      "A value is trying to be set on a copy of a slice from a DataFrame\n",
      "\n",
      "See the caveats in the documentation: https://pandas.pydata.org/pandas-docs/stable/user_guide/indexing.html#returning-a-view-versus-a-copy\n",
      "\n"
     ]
    },
    {
     "name": "stdout",
     "output_type": "stream",
     "text": [
      "Shape of mu : (177, 1)\n",
      "Shape of sigma : (177, 177)\n",
      "Shape of the Matrix for Binary tranformation : (177, 177)\n",
      "Run in 2.08 seconds.\n",
      "Number of selected assets in the portfolio : 0\n",
      "t0 : 820\n",
      "There are 180 tickers before Optimization\n"
     ]
    },
    {
     "name": "stderr",
     "output_type": "stream",
     "text": [
      "<ipython-input-11-e06b9047c178>:18: SettingWithCopyWarning:\n",
      "\n",
      "\n",
      "A value is trying to be set on a copy of a slice from a DataFrame\n",
      "\n",
      "See the caveats in the documentation: https://pandas.pydata.org/pandas-docs/stable/user_guide/indexing.html#returning-a-view-versus-a-copy\n",
      "\n"
     ]
    },
    {
     "name": "stdout",
     "output_type": "stream",
     "text": [
      "Shape of mu : (180, 1)\n",
      "Shape of sigma : (180, 180)\n",
      "Shape of the Matrix for Binary tranformation : (180, 180)\n",
      "Run in 2.447 seconds.\n",
      "Number of selected assets in the portfolio : 0\n",
      "t0 : 840\n",
      "There are 188 tickers before Optimization\n"
     ]
    },
    {
     "name": "stderr",
     "output_type": "stream",
     "text": [
      "<ipython-input-11-e06b9047c178>:18: SettingWithCopyWarning:\n",
      "\n",
      "\n",
      "A value is trying to be set on a copy of a slice from a DataFrame\n",
      "\n",
      "See the caveats in the documentation: https://pandas.pydata.org/pandas-docs/stable/user_guide/indexing.html#returning-a-view-versus-a-copy\n",
      "\n"
     ]
    },
    {
     "name": "stdout",
     "output_type": "stream",
     "text": [
      "Shape of mu : (188, 1)\n",
      "Shape of sigma : (188, 188)\n",
      "Shape of the Matrix for Binary tranformation : (188, 188)\n",
      "Run in 2.258 seconds.\n",
      "Number of selected assets in the portfolio : 0\n",
      "t0 : 860\n",
      "There are 188 tickers before Optimization\n"
     ]
    },
    {
     "name": "stderr",
     "output_type": "stream",
     "text": [
      "<ipython-input-11-e06b9047c178>:18: SettingWithCopyWarning:\n",
      "\n",
      "\n",
      "A value is trying to be set on a copy of a slice from a DataFrame\n",
      "\n",
      "See the caveats in the documentation: https://pandas.pydata.org/pandas-docs/stable/user_guide/indexing.html#returning-a-view-versus-a-copy\n",
      "\n"
     ]
    },
    {
     "name": "stdout",
     "output_type": "stream",
     "text": [
      "Shape of mu : (188, 1)\n",
      "Shape of sigma : (188, 188)\n",
      "Shape of the Matrix for Binary tranformation : (188, 188)\n",
      "Run in 2.027 seconds.\n",
      "Number of selected assets in the portfolio : 0\n",
      "t0 : 880\n",
      "There are 179 tickers before Optimization\n"
     ]
    },
    {
     "name": "stderr",
     "output_type": "stream",
     "text": [
      "<ipython-input-11-e06b9047c178>:18: SettingWithCopyWarning:\n",
      "\n",
      "\n",
      "A value is trying to be set on a copy of a slice from a DataFrame\n",
      "\n",
      "See the caveats in the documentation: https://pandas.pydata.org/pandas-docs/stable/user_guide/indexing.html#returning-a-view-versus-a-copy\n",
      "\n"
     ]
    },
    {
     "name": "stdout",
     "output_type": "stream",
     "text": [
      "Shape of mu : (179, 1)\n",
      "Shape of sigma : (179, 179)\n",
      "Shape of the Matrix for Binary tranformation : (179, 179)\n",
      "Run in 2.086 seconds.\n",
      "Number of selected assets in the portfolio : 0\n",
      "t0 : 900\n",
      "There are 184 tickers before Optimization\n"
     ]
    },
    {
     "name": "stderr",
     "output_type": "stream",
     "text": [
      "<ipython-input-11-e06b9047c178>:18: SettingWithCopyWarning:\n",
      "\n",
      "\n",
      "A value is trying to be set on a copy of a slice from a DataFrame\n",
      "\n",
      "See the caveats in the documentation: https://pandas.pydata.org/pandas-docs/stable/user_guide/indexing.html#returning-a-view-versus-a-copy\n",
      "\n"
     ]
    },
    {
     "name": "stdout",
     "output_type": "stream",
     "text": [
      "Shape of mu : (184, 1)\n",
      "Shape of sigma : (184, 184)\n",
      "Shape of the Matrix for Binary tranformation : (184, 184)\n",
      "Run in 2.216 seconds.\n",
      "Number of selected assets in the portfolio : 0\n",
      "t0 : 920\n",
      "There are 178 tickers before Optimization\n"
     ]
    },
    {
     "name": "stderr",
     "output_type": "stream",
     "text": [
      "<ipython-input-11-e06b9047c178>:18: SettingWithCopyWarning:\n",
      "\n",
      "\n",
      "A value is trying to be set on a copy of a slice from a DataFrame\n",
      "\n",
      "See the caveats in the documentation: https://pandas.pydata.org/pandas-docs/stable/user_guide/indexing.html#returning-a-view-versus-a-copy\n",
      "\n"
     ]
    },
    {
     "name": "stdout",
     "output_type": "stream",
     "text": [
      "Shape of mu : (178, 1)\n",
      "Shape of sigma : (178, 178)\n",
      "Shape of the Matrix for Binary tranformation : (178, 178)\n",
      "Run in 2.21 seconds.\n",
      "Number of selected assets in the portfolio : 0\n",
      "t0 : 940\n",
      "There are 157 tickers before Optimization\n"
     ]
    },
    {
     "name": "stderr",
     "output_type": "stream",
     "text": [
      "<ipython-input-11-e06b9047c178>:18: SettingWithCopyWarning:\n",
      "\n",
      "\n",
      "A value is trying to be set on a copy of a slice from a DataFrame\n",
      "\n",
      "See the caveats in the documentation: https://pandas.pydata.org/pandas-docs/stable/user_guide/indexing.html#returning-a-view-versus-a-copy\n",
      "\n"
     ]
    },
    {
     "name": "stdout",
     "output_type": "stream",
     "text": [
      "Shape of mu : (157, 1)\n",
      "Shape of sigma : (157, 157)\n",
      "Shape of the Matrix for Binary tranformation : (157, 157)\n",
      "Run in 2.298 seconds.\n",
      "Number of selected assets in the portfolio : 0\n",
      "t0 : 960\n",
      "There are 143 tickers before Optimization\n"
     ]
    },
    {
     "name": "stderr",
     "output_type": "stream",
     "text": [
      "<ipython-input-11-e06b9047c178>:18: SettingWithCopyWarning:\n",
      "\n",
      "\n",
      "A value is trying to be set on a copy of a slice from a DataFrame\n",
      "\n",
      "See the caveats in the documentation: https://pandas.pydata.org/pandas-docs/stable/user_guide/indexing.html#returning-a-view-versus-a-copy\n",
      "\n"
     ]
    },
    {
     "name": "stdout",
     "output_type": "stream",
     "text": [
      "Shape of mu : (143, 1)\n",
      "Shape of sigma : (143, 143)\n",
      "Shape of the Matrix for Binary tranformation : (143, 143)\n",
      "Run in 2.208 seconds.\n",
      "Number of selected assets in the portfolio : 0\n",
      "t0 : 980\n",
      "There are 131 tickers before Optimization\n"
     ]
    },
    {
     "name": "stderr",
     "output_type": "stream",
     "text": [
      "<ipython-input-11-e06b9047c178>:18: SettingWithCopyWarning:\n",
      "\n",
      "\n",
      "A value is trying to be set on a copy of a slice from a DataFrame\n",
      "\n",
      "See the caveats in the documentation: https://pandas.pydata.org/pandas-docs/stable/user_guide/indexing.html#returning-a-view-versus-a-copy\n",
      "\n"
     ]
    },
    {
     "name": "stdout",
     "output_type": "stream",
     "text": [
      "Shape of mu : (131, 1)\n",
      "Shape of sigma : (131, 131)\n",
      "Shape of the Matrix for Binary tranformation : (131, 131)\n",
      "Run in 2.051 seconds.\n",
      "Number of selected assets in the portfolio : 0\n",
      "t0 : 1000\n",
      "There are 114 tickers before Optimization\n"
     ]
    },
    {
     "name": "stderr",
     "output_type": "stream",
     "text": [
      "<ipython-input-11-e06b9047c178>:18: SettingWithCopyWarning:\n",
      "\n",
      "\n",
      "A value is trying to be set on a copy of a slice from a DataFrame\n",
      "\n",
      "See the caveats in the documentation: https://pandas.pydata.org/pandas-docs/stable/user_guide/indexing.html#returning-a-view-versus-a-copy\n",
      "\n"
     ]
    },
    {
     "name": "stdout",
     "output_type": "stream",
     "text": [
      "Shape of mu : (114, 1)\n",
      "Shape of sigma : (114, 114)\n",
      "Shape of the Matrix for Binary tranformation : (114, 114)\n",
      "Run in 1.819 seconds.\n",
      "Number of selected assets in the portfolio : 0\n",
      "t0 : 1020\n",
      "There are 114 tickers before Optimization\n"
     ]
    },
    {
     "name": "stderr",
     "output_type": "stream",
     "text": [
      "<ipython-input-11-e06b9047c178>:18: SettingWithCopyWarning:\n",
      "\n",
      "\n",
      "A value is trying to be set on a copy of a slice from a DataFrame\n",
      "\n",
      "See the caveats in the documentation: https://pandas.pydata.org/pandas-docs/stable/user_guide/indexing.html#returning-a-view-versus-a-copy\n",
      "\n"
     ]
    },
    {
     "name": "stdout",
     "output_type": "stream",
     "text": [
      "Shape of mu : (114, 1)\n",
      "Shape of sigma : (114, 114)\n",
      "Shape of the Matrix for Binary tranformation : (114, 114)\n",
      "Run in 2.195 seconds.\n",
      "Number of selected assets in the portfolio : 0\n",
      "t0 : 1040\n",
      "There are 108 tickers before Optimization\n"
     ]
    },
    {
     "name": "stderr",
     "output_type": "stream",
     "text": [
      "<ipython-input-11-e06b9047c178>:18: SettingWithCopyWarning:\n",
      "\n",
      "\n",
      "A value is trying to be set on a copy of a slice from a DataFrame\n",
      "\n",
      "See the caveats in the documentation: https://pandas.pydata.org/pandas-docs/stable/user_guide/indexing.html#returning-a-view-versus-a-copy\n",
      "\n"
     ]
    },
    {
     "name": "stdout",
     "output_type": "stream",
     "text": [
      "Shape of mu : (108, 1)\n",
      "Shape of sigma : (108, 108)\n",
      "Shape of the Matrix for Binary tranformation : (108, 108)\n",
      "Run in 2.784 seconds.\n",
      "Number of selected assets in the portfolio : 1\n",
      "t0 : 1060\n",
      "There are 99 tickers before Optimization\n"
     ]
    },
    {
     "name": "stderr",
     "output_type": "stream",
     "text": [
      "<ipython-input-11-e06b9047c178>:18: SettingWithCopyWarning:\n",
      "\n",
      "\n",
      "A value is trying to be set on a copy of a slice from a DataFrame\n",
      "\n",
      "See the caveats in the documentation: https://pandas.pydata.org/pandas-docs/stable/user_guide/indexing.html#returning-a-view-versus-a-copy\n",
      "\n"
     ]
    },
    {
     "name": "stdout",
     "output_type": "stream",
     "text": [
      "Shape of mu : (99, 1)\n",
      "Shape of sigma : (99, 99)\n",
      "Shape of the Matrix for Binary tranformation : (99, 99)\n",
      "Run in 1.883 seconds.\n",
      "Number of selected assets in the portfolio : 10\n",
      "t0 : 1080\n",
      "There are 98 tickers before Optimization\n"
     ]
    },
    {
     "name": "stderr",
     "output_type": "stream",
     "text": [
      "<ipython-input-11-e06b9047c178>:18: SettingWithCopyWarning:\n",
      "\n",
      "\n",
      "A value is trying to be set on a copy of a slice from a DataFrame\n",
      "\n",
      "See the caveats in the documentation: https://pandas.pydata.org/pandas-docs/stable/user_guide/indexing.html#returning-a-view-versus-a-copy\n",
      "\n"
     ]
    },
    {
     "name": "stdout",
     "output_type": "stream",
     "text": [
      "Shape of mu : (98, 1)\n",
      "Shape of sigma : (98, 98)\n",
      "Shape of the Matrix for Binary tranformation : (98, 98)\n",
      "Run in 1.963 seconds.\n",
      "Number of selected assets in the portfolio : 10\n",
      "t0 : 1100\n",
      "There are 101 tickers before Optimization\n"
     ]
    },
    {
     "name": "stderr",
     "output_type": "stream",
     "text": [
      "<ipython-input-11-e06b9047c178>:18: SettingWithCopyWarning:\n",
      "\n",
      "\n",
      "A value is trying to be set on a copy of a slice from a DataFrame\n",
      "\n",
      "See the caveats in the documentation: https://pandas.pydata.org/pandas-docs/stable/user_guide/indexing.html#returning-a-view-versus-a-copy\n",
      "\n"
     ]
    },
    {
     "name": "stdout",
     "output_type": "stream",
     "text": [
      "Shape of mu : (101, 1)\n",
      "Shape of sigma : (101, 101)\n",
      "Shape of the Matrix for Binary tranformation : (101, 101)\n",
      "Run in 2.354 seconds.\n",
      "Number of selected assets in the portfolio : 8\n",
      "t0 : 1120\n",
      "There are 100 tickers before Optimization\n"
     ]
    },
    {
     "name": "stderr",
     "output_type": "stream",
     "text": [
      "<ipython-input-11-e06b9047c178>:18: SettingWithCopyWarning:\n",
      "\n",
      "\n",
      "A value is trying to be set on a copy of a slice from a DataFrame\n",
      "\n",
      "See the caveats in the documentation: https://pandas.pydata.org/pandas-docs/stable/user_guide/indexing.html#returning-a-view-versus-a-copy\n",
      "\n"
     ]
    },
    {
     "name": "stdout",
     "output_type": "stream",
     "text": [
      "Shape of mu : (100, 1)\n",
      "Shape of sigma : (100, 100)\n",
      "Shape of the Matrix for Binary tranformation : (100, 100)\n",
      "Run in 1.965 seconds.\n",
      "Number of selected assets in the portfolio : 5\n",
      "t0 : 1140\n",
      "There are 102 tickers before Optimization\n"
     ]
    },
    {
     "name": "stderr",
     "output_type": "stream",
     "text": [
      "<ipython-input-11-e06b9047c178>:18: SettingWithCopyWarning:\n",
      "\n",
      "\n",
      "A value is trying to be set on a copy of a slice from a DataFrame\n",
      "\n",
      "See the caveats in the documentation: https://pandas.pydata.org/pandas-docs/stable/user_guide/indexing.html#returning-a-view-versus-a-copy\n",
      "\n"
     ]
    },
    {
     "name": "stdout",
     "output_type": "stream",
     "text": [
      "Shape of mu : (102, 1)\n",
      "Shape of sigma : (102, 102)\n",
      "Shape of the Matrix for Binary tranformation : (102, 102)\n",
      "Run in 2.06 seconds.\n",
      "Number of selected assets in the portfolio : 2\n",
      "t0 : 1160\n",
      "There are 93 tickers before Optimization\n"
     ]
    },
    {
     "name": "stderr",
     "output_type": "stream",
     "text": [
      "<ipython-input-11-e06b9047c178>:18: SettingWithCopyWarning:\n",
      "\n",
      "\n",
      "A value is trying to be set on a copy of a slice from a DataFrame\n",
      "\n",
      "See the caveats in the documentation: https://pandas.pydata.org/pandas-docs/stable/user_guide/indexing.html#returning-a-view-versus-a-copy\n",
      "\n"
     ]
    },
    {
     "name": "stdout",
     "output_type": "stream",
     "text": [
      "Shape of mu : (93, 1)\n",
      "Shape of sigma : (93, 93)\n",
      "Shape of the Matrix for Binary tranformation : (93, 93)\n",
      "Run in 2.008 seconds.\n",
      "Number of selected assets in the portfolio : 2\n",
      "t0 : 1180\n",
      "There are 91 tickers before Optimization\n"
     ]
    },
    {
     "name": "stderr",
     "output_type": "stream",
     "text": [
      "<ipython-input-11-e06b9047c178>:18: SettingWithCopyWarning:\n",
      "\n",
      "\n",
      "A value is trying to be set on a copy of a slice from a DataFrame\n",
      "\n",
      "See the caveats in the documentation: https://pandas.pydata.org/pandas-docs/stable/user_guide/indexing.html#returning-a-view-versus-a-copy\n",
      "\n"
     ]
    },
    {
     "name": "stdout",
     "output_type": "stream",
     "text": [
      "Shape of mu : (91, 1)\n",
      "Shape of sigma : (91, 91)\n",
      "Shape of the Matrix for Binary tranformation : (91, 91)\n",
      "Run in 3.411 seconds.\n",
      "Number of selected assets in the portfolio : 2\n",
      "t0 : 1200\n",
      "There are 87 tickers before Optimization\n"
     ]
    },
    {
     "name": "stderr",
     "output_type": "stream",
     "text": [
      "<ipython-input-11-e06b9047c178>:18: SettingWithCopyWarning:\n",
      "\n",
      "\n",
      "A value is trying to be set on a copy of a slice from a DataFrame\n",
      "\n",
      "See the caveats in the documentation: https://pandas.pydata.org/pandas-docs/stable/user_guide/indexing.html#returning-a-view-versus-a-copy\n",
      "\n"
     ]
    },
    {
     "name": "stdout",
     "output_type": "stream",
     "text": [
      "Shape of mu : (87, 1)\n",
      "Shape of sigma : (87, 87)\n",
      "Shape of the Matrix for Binary tranformation : (87, 87)\n",
      "Run in 2.247 seconds.\n",
      "Number of selected assets in the portfolio : 3\n",
      "t0 : 1220\n",
      "There are 84 tickers before Optimization\n"
     ]
    },
    {
     "name": "stderr",
     "output_type": "stream",
     "text": [
      "<ipython-input-11-e06b9047c178>:18: SettingWithCopyWarning:\n",
      "\n",
      "\n",
      "A value is trying to be set on a copy of a slice from a DataFrame\n",
      "\n",
      "See the caveats in the documentation: https://pandas.pydata.org/pandas-docs/stable/user_guide/indexing.html#returning-a-view-versus-a-copy\n",
      "\n"
     ]
    },
    {
     "name": "stdout",
     "output_type": "stream",
     "text": [
      "Shape of mu : (84, 1)\n",
      "Shape of sigma : (84, 84)\n",
      "Shape of the Matrix for Binary tranformation : (84, 84)\n",
      "Run in 2.06 seconds.\n",
      "Number of selected assets in the portfolio : 6\n",
      "t0 : 1240\n",
      "There are 83 tickers before Optimization\n"
     ]
    },
    {
     "name": "stderr",
     "output_type": "stream",
     "text": [
      "<ipython-input-11-e06b9047c178>:18: SettingWithCopyWarning:\n",
      "\n",
      "\n",
      "A value is trying to be set on a copy of a slice from a DataFrame\n",
      "\n",
      "See the caveats in the documentation: https://pandas.pydata.org/pandas-docs/stable/user_guide/indexing.html#returning-a-view-versus-a-copy\n",
      "\n"
     ]
    },
    {
     "name": "stdout",
     "output_type": "stream",
     "text": [
      "Shape of mu : (83, 1)\n",
      "Shape of sigma : (83, 83)\n",
      "Shape of the Matrix for Binary tranformation : (83, 83)\n",
      "Run in 2.431 seconds.\n",
      "Number of selected assets in the portfolio : 5\n",
      "t0 : 1260\n",
      "There are 93 tickers before Optimization\n"
     ]
    },
    {
     "name": "stderr",
     "output_type": "stream",
     "text": [
      "<ipython-input-11-e06b9047c178>:18: SettingWithCopyWarning:\n",
      "\n",
      "\n",
      "A value is trying to be set on a copy of a slice from a DataFrame\n",
      "\n",
      "See the caveats in the documentation: https://pandas.pydata.org/pandas-docs/stable/user_guide/indexing.html#returning-a-view-versus-a-copy\n",
      "\n"
     ]
    },
    {
     "name": "stdout",
     "output_type": "stream",
     "text": [
      "Shape of mu : (93, 1)\n",
      "Shape of sigma : (93, 93)\n",
      "Shape of the Matrix for Binary tranformation : (93, 93)\n",
      "Run in 2.413 seconds.\n",
      "Number of selected assets in the portfolio : 3\n",
      "t0 : 1280\n",
      "There are 97 tickers before Optimization\n"
     ]
    },
    {
     "name": "stderr",
     "output_type": "stream",
     "text": [
      "<ipython-input-11-e06b9047c178>:18: SettingWithCopyWarning:\n",
      "\n",
      "\n",
      "A value is trying to be set on a copy of a slice from a DataFrame\n",
      "\n",
      "See the caveats in the documentation: https://pandas.pydata.org/pandas-docs/stable/user_guide/indexing.html#returning-a-view-versus-a-copy\n",
      "\n"
     ]
    },
    {
     "name": "stdout",
     "output_type": "stream",
     "text": [
      "Shape of mu : (97, 1)\n",
      "Shape of sigma : (97, 97)\n",
      "Shape of the Matrix for Binary tranformation : (97, 97)\n",
      "Run in 2.249 seconds.\n",
      "Number of selected assets in the portfolio : 5\n",
      "t0 : 1300\n",
      "There are 96 tickers before Optimization\n"
     ]
    },
    {
     "name": "stderr",
     "output_type": "stream",
     "text": [
      "<ipython-input-11-e06b9047c178>:18: SettingWithCopyWarning:\n",
      "\n",
      "\n",
      "A value is trying to be set on a copy of a slice from a DataFrame\n",
      "\n",
      "See the caveats in the documentation: https://pandas.pydata.org/pandas-docs/stable/user_guide/indexing.html#returning-a-view-versus-a-copy\n",
      "\n"
     ]
    },
    {
     "name": "stdout",
     "output_type": "stream",
     "text": [
      "Shape of mu : (96, 1)\n",
      "Shape of sigma : (96, 96)\n",
      "Shape of the Matrix for Binary tranformation : (96, 96)\n",
      "Run in 2.702 seconds.\n",
      "Number of selected assets in the portfolio : 3\n",
      "t0 : 1320\n",
      "There are 91 tickers before Optimization\n"
     ]
    },
    {
     "name": "stderr",
     "output_type": "stream",
     "text": [
      "<ipython-input-11-e06b9047c178>:18: SettingWithCopyWarning:\n",
      "\n",
      "\n",
      "A value is trying to be set on a copy of a slice from a DataFrame\n",
      "\n",
      "See the caveats in the documentation: https://pandas.pydata.org/pandas-docs/stable/user_guide/indexing.html#returning-a-view-versus-a-copy\n",
      "\n"
     ]
    },
    {
     "name": "stdout",
     "output_type": "stream",
     "text": [
      "Shape of mu : (91, 1)\n",
      "Shape of sigma : (91, 91)\n",
      "Shape of the Matrix for Binary tranformation : (91, 91)\n",
      "Run in 3.231 seconds.\n",
      "Number of selected assets in the portfolio : 4\n",
      "t0 : 1340\n",
      "There are 92 tickers before Optimization\n"
     ]
    },
    {
     "name": "stderr",
     "output_type": "stream",
     "text": [
      "<ipython-input-11-e06b9047c178>:18: SettingWithCopyWarning:\n",
      "\n",
      "\n",
      "A value is trying to be set on a copy of a slice from a DataFrame\n",
      "\n",
      "See the caveats in the documentation: https://pandas.pydata.org/pandas-docs/stable/user_guide/indexing.html#returning-a-view-versus-a-copy\n",
      "\n"
     ]
    },
    {
     "name": "stdout",
     "output_type": "stream",
     "text": [
      "Shape of mu : (92, 1)\n",
      "Shape of sigma : (92, 92)\n",
      "Shape of the Matrix for Binary tranformation : (92, 92)\n",
      "Run in 3.036 seconds.\n",
      "Number of selected assets in the portfolio : 4\n",
      "t0 : 1360\n",
      "There are 86 tickers before Optimization\n"
     ]
    },
    {
     "name": "stderr",
     "output_type": "stream",
     "text": [
      "<ipython-input-11-e06b9047c178>:18: SettingWithCopyWarning:\n",
      "\n",
      "\n",
      "A value is trying to be set on a copy of a slice from a DataFrame\n",
      "\n",
      "See the caveats in the documentation: https://pandas.pydata.org/pandas-docs/stable/user_guide/indexing.html#returning-a-view-versus-a-copy\n",
      "\n"
     ]
    },
    {
     "name": "stdout",
     "output_type": "stream",
     "text": [
      "Shape of mu : (86, 1)\n",
      "Shape of sigma : (86, 86)\n",
      "Shape of the Matrix for Binary tranformation : (86, 86)\n",
      "Run in 4.36 seconds.\n",
      "Number of selected assets in the portfolio : 7\n",
      "t0 : 1380\n",
      "There are 89 tickers before Optimization\n"
     ]
    },
    {
     "name": "stderr",
     "output_type": "stream",
     "text": [
      "<ipython-input-11-e06b9047c178>:18: SettingWithCopyWarning:\n",
      "\n",
      "\n",
      "A value is trying to be set on a copy of a slice from a DataFrame\n",
      "\n",
      "See the caveats in the documentation: https://pandas.pydata.org/pandas-docs/stable/user_guide/indexing.html#returning-a-view-versus-a-copy\n",
      "\n"
     ]
    },
    {
     "name": "stdout",
     "output_type": "stream",
     "text": [
      "Shape of mu : (89, 1)\n",
      "Shape of sigma : (89, 89)\n",
      "Shape of the Matrix for Binary tranformation : (89, 89)\n",
      "Run in 4.218 seconds.\n",
      "Number of selected assets in the portfolio : 10\n",
      "t0 : 1400\n",
      "There are 97 tickers before Optimization\n"
     ]
    },
    {
     "name": "stderr",
     "output_type": "stream",
     "text": [
      "<ipython-input-11-e06b9047c178>:18: SettingWithCopyWarning:\n",
      "\n",
      "\n",
      "A value is trying to be set on a copy of a slice from a DataFrame\n",
      "\n",
      "See the caveats in the documentation: https://pandas.pydata.org/pandas-docs/stable/user_guide/indexing.html#returning-a-view-versus-a-copy\n",
      "\n"
     ]
    },
    {
     "name": "stdout",
     "output_type": "stream",
     "text": [
      "Shape of mu : (97, 1)\n",
      "Shape of sigma : (97, 97)\n",
      "Shape of the Matrix for Binary tranformation : (97, 97)\n",
      "Run in 3.169 seconds.\n",
      "Number of selected assets in the portfolio : 12\n",
      "t0 : 1420\n",
      "There are 112 tickers before Optimization\n"
     ]
    },
    {
     "name": "stderr",
     "output_type": "stream",
     "text": [
      "<ipython-input-11-e06b9047c178>:18: SettingWithCopyWarning:\n",
      "\n",
      "\n",
      "A value is trying to be set on a copy of a slice from a DataFrame\n",
      "\n",
      "See the caveats in the documentation: https://pandas.pydata.org/pandas-docs/stable/user_guide/indexing.html#returning-a-view-versus-a-copy\n",
      "\n"
     ]
    },
    {
     "name": "stdout",
     "output_type": "stream",
     "text": [
      "Shape of mu : (112, 1)\n",
      "Shape of sigma : (112, 112)\n",
      "Shape of the Matrix for Binary tranformation : (112, 112)\n",
      "Run in 4.667 seconds.\n",
      "Number of selected assets in the portfolio : 1\n",
      "t0 : 1440\n",
      "There are 119 tickers before Optimization\n"
     ]
    },
    {
     "name": "stderr",
     "output_type": "stream",
     "text": [
      "<ipython-input-11-e06b9047c178>:18: SettingWithCopyWarning:\n",
      "\n",
      "\n",
      "A value is trying to be set on a copy of a slice from a DataFrame\n",
      "\n",
      "See the caveats in the documentation: https://pandas.pydata.org/pandas-docs/stable/user_guide/indexing.html#returning-a-view-versus-a-copy\n",
      "\n"
     ]
    },
    {
     "name": "stdout",
     "output_type": "stream",
     "text": [
      "Shape of mu : (119, 1)\n",
      "Shape of sigma : (119, 119)\n",
      "Shape of the Matrix for Binary tranformation : (119, 119)\n",
      "Run in 4.668 seconds.\n",
      "Number of selected assets in the portfolio : 0\n",
      "t0 : 1460\n",
      "There are 126 tickers before Optimization\n"
     ]
    },
    {
     "name": "stderr",
     "output_type": "stream",
     "text": [
      "<ipython-input-11-e06b9047c178>:18: SettingWithCopyWarning:\n",
      "\n",
      "\n",
      "A value is trying to be set on a copy of a slice from a DataFrame\n",
      "\n",
      "See the caveats in the documentation: https://pandas.pydata.org/pandas-docs/stable/user_guide/indexing.html#returning-a-view-versus-a-copy\n",
      "\n"
     ]
    },
    {
     "name": "stdout",
     "output_type": "stream",
     "text": [
      "Shape of mu : (126, 1)\n",
      "Shape of sigma : (126, 126)\n",
      "Shape of the Matrix for Binary tranformation : (126, 126)\n",
      "Run in 3.254 seconds.\n",
      "Number of selected assets in the portfolio : 1\n",
      "t0 : 1480\n",
      "There are 138 tickers before Optimization\n"
     ]
    },
    {
     "name": "stderr",
     "output_type": "stream",
     "text": [
      "<ipython-input-11-e06b9047c178>:18: SettingWithCopyWarning:\n",
      "\n",
      "\n",
      "A value is trying to be set on a copy of a slice from a DataFrame\n",
      "\n",
      "See the caveats in the documentation: https://pandas.pydata.org/pandas-docs/stable/user_guide/indexing.html#returning-a-view-versus-a-copy\n",
      "\n"
     ]
    },
    {
     "name": "stdout",
     "output_type": "stream",
     "text": [
      "Shape of mu : (138, 1)\n",
      "Shape of sigma : (138, 138)\n",
      "Shape of the Matrix for Binary tranformation : (138, 138)\n",
      "Run in 2.989 seconds.\n",
      "Number of selected assets in the portfolio : 1\n",
      "t0 : 1500\n",
      "There are 142 tickers before Optimization\n"
     ]
    },
    {
     "name": "stderr",
     "output_type": "stream",
     "text": [
      "<ipython-input-11-e06b9047c178>:18: SettingWithCopyWarning:\n",
      "\n",
      "\n",
      "A value is trying to be set on a copy of a slice from a DataFrame\n",
      "\n",
      "See the caveats in the documentation: https://pandas.pydata.org/pandas-docs/stable/user_guide/indexing.html#returning-a-view-versus-a-copy\n",
      "\n"
     ]
    },
    {
     "name": "stdout",
     "output_type": "stream",
     "text": [
      "Shape of mu : (142, 1)\n",
      "Shape of sigma : (142, 142)\n",
      "Shape of the Matrix for Binary tranformation : (142, 142)\n",
      "Run in 5.772 seconds.\n",
      "Number of selected assets in the portfolio : 0\n",
      "t0 : 1520\n",
      "There are 147 tickers before Optimization\n"
     ]
    },
    {
     "name": "stderr",
     "output_type": "stream",
     "text": [
      "<ipython-input-11-e06b9047c178>:18: SettingWithCopyWarning:\n",
      "\n",
      "\n",
      "A value is trying to be set on a copy of a slice from a DataFrame\n",
      "\n",
      "See the caveats in the documentation: https://pandas.pydata.org/pandas-docs/stable/user_guide/indexing.html#returning-a-view-versus-a-copy\n",
      "\n"
     ]
    },
    {
     "name": "stdout",
     "output_type": "stream",
     "text": [
      "Shape of mu : (147, 1)\n",
      "Shape of sigma : (147, 147)\n",
      "Shape of the Matrix for Binary tranformation : (147, 147)\n",
      "Run in 3.499 seconds.\n",
      "Number of selected assets in the portfolio : 1\n",
      "t0 : 1540\n",
      "There are 154 tickers before Optimization\n"
     ]
    },
    {
     "name": "stderr",
     "output_type": "stream",
     "text": [
      "<ipython-input-11-e06b9047c178>:18: SettingWithCopyWarning:\n",
      "\n",
      "\n",
      "A value is trying to be set on a copy of a slice from a DataFrame\n",
      "\n",
      "See the caveats in the documentation: https://pandas.pydata.org/pandas-docs/stable/user_guide/indexing.html#returning-a-view-versus-a-copy\n",
      "\n"
     ]
    },
    {
     "name": "stdout",
     "output_type": "stream",
     "text": [
      "Shape of mu : (154, 1)\n",
      "Shape of sigma : (154, 154)\n",
      "Shape of the Matrix for Binary tranformation : (154, 154)\n",
      "Run in 4.488 seconds.\n",
      "Number of selected assets in the portfolio : 2\n",
      "t0 : 1560\n",
      "There are 139 tickers before Optimization\n"
     ]
    },
    {
     "name": "stderr",
     "output_type": "stream",
     "text": [
      "<ipython-input-11-e06b9047c178>:18: SettingWithCopyWarning:\n",
      "\n",
      "\n",
      "A value is trying to be set on a copy of a slice from a DataFrame\n",
      "\n",
      "See the caveats in the documentation: https://pandas.pydata.org/pandas-docs/stable/user_guide/indexing.html#returning-a-view-versus-a-copy\n",
      "\n"
     ]
    },
    {
     "name": "stdout",
     "output_type": "stream",
     "text": [
      "Shape of mu : (139, 1)\n",
      "Shape of sigma : (139, 139)\n",
      "Shape of the Matrix for Binary tranformation : (139, 139)\n",
      "Run in 9.896 seconds.\n",
      "Number of selected assets in the portfolio : 1\n",
      "t0 : 1580\n",
      "There are 143 tickers before Optimization\n"
     ]
    },
    {
     "name": "stderr",
     "output_type": "stream",
     "text": [
      "<ipython-input-11-e06b9047c178>:18: SettingWithCopyWarning:\n",
      "\n",
      "\n",
      "A value is trying to be set on a copy of a slice from a DataFrame\n",
      "\n",
      "See the caveats in the documentation: https://pandas.pydata.org/pandas-docs/stable/user_guide/indexing.html#returning-a-view-versus-a-copy\n",
      "\n"
     ]
    },
    {
     "name": "stdout",
     "output_type": "stream",
     "text": [
      "Shape of mu : (143, 1)\n",
      "Shape of sigma : (143, 143)\n",
      "Shape of the Matrix for Binary tranformation : (143, 143)\n",
      "Run in 5.034 seconds.\n",
      "Number of selected assets in the portfolio : 1\n",
      "t0 : 1600\n",
      "There are 153 tickers before Optimization\n"
     ]
    },
    {
     "name": "stderr",
     "output_type": "stream",
     "text": [
      "<ipython-input-11-e06b9047c178>:18: SettingWithCopyWarning:\n",
      "\n",
      "\n",
      "A value is trying to be set on a copy of a slice from a DataFrame\n",
      "\n",
      "See the caveats in the documentation: https://pandas.pydata.org/pandas-docs/stable/user_guide/indexing.html#returning-a-view-versus-a-copy\n",
      "\n"
     ]
    },
    {
     "name": "stdout",
     "output_type": "stream",
     "text": [
      "Shape of mu : (153, 1)\n",
      "Shape of sigma : (153, 153)\n",
      "Shape of the Matrix for Binary tranformation : (153, 153)\n",
      "Run in 4.517 seconds.\n",
      "Number of selected assets in the portfolio : 1\n",
      "t0 : 1620\n",
      "There are 156 tickers before Optimization\n"
     ]
    },
    {
     "name": "stderr",
     "output_type": "stream",
     "text": [
      "<ipython-input-11-e06b9047c178>:18: SettingWithCopyWarning:\n",
      "\n",
      "\n",
      "A value is trying to be set on a copy of a slice from a DataFrame\n",
      "\n",
      "See the caveats in the documentation: https://pandas.pydata.org/pandas-docs/stable/user_guide/indexing.html#returning-a-view-versus-a-copy\n",
      "\n"
     ]
    },
    {
     "name": "stdout",
     "output_type": "stream",
     "text": [
      "Shape of mu : (156, 1)\n",
      "Shape of sigma : (156, 156)\n",
      "Shape of the Matrix for Binary tranformation : (156, 156)\n",
      "Run in 4.213 seconds.\n",
      "Number of selected assets in the portfolio : 0\n",
      "t0 : 1640\n",
      "There are 136 tickers before Optimization\n"
     ]
    },
    {
     "name": "stderr",
     "output_type": "stream",
     "text": [
      "<ipython-input-11-e06b9047c178>:18: SettingWithCopyWarning:\n",
      "\n",
      "\n",
      "A value is trying to be set on a copy of a slice from a DataFrame\n",
      "\n",
      "See the caveats in the documentation: https://pandas.pydata.org/pandas-docs/stable/user_guide/indexing.html#returning-a-view-versus-a-copy\n",
      "\n"
     ]
    },
    {
     "name": "stdout",
     "output_type": "stream",
     "text": [
      "Shape of mu : (136, 1)\n",
      "Shape of sigma : (136, 136)\n",
      "Shape of the Matrix for Binary tranformation : (136, 136)\n",
      "Run in 3.25 seconds.\n",
      "Number of selected assets in the portfolio : 0\n",
      "t0 : 1660\n",
      "There are 122 tickers before Optimization\n"
     ]
    },
    {
     "name": "stderr",
     "output_type": "stream",
     "text": [
      "<ipython-input-11-e06b9047c178>:18: SettingWithCopyWarning:\n",
      "\n",
      "\n",
      "A value is trying to be set on a copy of a slice from a DataFrame\n",
      "\n",
      "See the caveats in the documentation: https://pandas.pydata.org/pandas-docs/stable/user_guide/indexing.html#returning-a-view-versus-a-copy\n",
      "\n"
     ]
    },
    {
     "name": "stdout",
     "output_type": "stream",
     "text": [
      "Shape of mu : (122, 1)\n",
      "Shape of sigma : (122, 122)\n",
      "Shape of the Matrix for Binary tranformation : (122, 122)\n",
      "Run in 4.213 seconds.\n",
      "Number of selected assets in the portfolio : 2\n",
      "t0 : 1680\n",
      "There are 119 tickers before Optimization\n"
     ]
    },
    {
     "name": "stderr",
     "output_type": "stream",
     "text": [
      "<ipython-input-11-e06b9047c178>:18: SettingWithCopyWarning:\n",
      "\n",
      "\n",
      "A value is trying to be set on a copy of a slice from a DataFrame\n",
      "\n",
      "See the caveats in the documentation: https://pandas.pydata.org/pandas-docs/stable/user_guide/indexing.html#returning-a-view-versus-a-copy\n",
      "\n"
     ]
    },
    {
     "name": "stdout",
     "output_type": "stream",
     "text": [
      "Shape of mu : (119, 1)\n",
      "Shape of sigma : (119, 119)\n",
      "Shape of the Matrix for Binary tranformation : (119, 119)\n",
      "Run in 3.105 seconds.\n",
      "Number of selected assets in the portfolio : 5\n",
      "t0 : 1700\n",
      "There are 114 tickers before Optimization\n"
     ]
    },
    {
     "name": "stderr",
     "output_type": "stream",
     "text": [
      "<ipython-input-11-e06b9047c178>:18: SettingWithCopyWarning:\n",
      "\n",
      "\n",
      "A value is trying to be set on a copy of a slice from a DataFrame\n",
      "\n",
      "See the caveats in the documentation: https://pandas.pydata.org/pandas-docs/stable/user_guide/indexing.html#returning-a-view-versus-a-copy\n",
      "\n"
     ]
    },
    {
     "name": "stdout",
     "output_type": "stream",
     "text": [
      "Shape of mu : (114, 1)\n",
      "Shape of sigma : (114, 114)\n",
      "Shape of the Matrix for Binary tranformation : (114, 114)\n",
      "Run in 2.656 seconds.\n",
      "Number of selected assets in the portfolio : 8\n",
      "t0 : 1720\n",
      "There are 111 tickers before Optimization\n"
     ]
    },
    {
     "name": "stderr",
     "output_type": "stream",
     "text": [
      "<ipython-input-11-e06b9047c178>:18: SettingWithCopyWarning:\n",
      "\n",
      "\n",
      "A value is trying to be set on a copy of a slice from a DataFrame\n",
      "\n",
      "See the caveats in the documentation: https://pandas.pydata.org/pandas-docs/stable/user_guide/indexing.html#returning-a-view-versus-a-copy\n",
      "\n"
     ]
    },
    {
     "name": "stdout",
     "output_type": "stream",
     "text": [
      "Shape of mu : (111, 1)\n",
      "Shape of sigma : (111, 111)\n",
      "Shape of the Matrix for Binary tranformation : (111, 111)\n",
      "Run in 6.415 seconds.\n",
      "Number of selected assets in the portfolio : 7\n",
      "t0 : 1740\n",
      "There are 98 tickers before Optimization\n"
     ]
    },
    {
     "name": "stderr",
     "output_type": "stream",
     "text": [
      "<ipython-input-11-e06b9047c178>:18: SettingWithCopyWarning:\n",
      "\n",
      "\n",
      "A value is trying to be set on a copy of a slice from a DataFrame\n",
      "\n",
      "See the caveats in the documentation: https://pandas.pydata.org/pandas-docs/stable/user_guide/indexing.html#returning-a-view-versus-a-copy\n",
      "\n"
     ]
    },
    {
     "name": "stdout",
     "output_type": "stream",
     "text": [
      "Shape of mu : (98, 1)\n",
      "Shape of sigma : (98, 98)\n",
      "Shape of the Matrix for Binary tranformation : (98, 98)\n",
      "Run in 2.893 seconds.\n",
      "Number of selected assets in the portfolio : 15\n",
      "t0 : 1760\n",
      "There are 90 tickers before Optimization\n"
     ]
    },
    {
     "name": "stderr",
     "output_type": "stream",
     "text": [
      "<ipython-input-11-e06b9047c178>:18: SettingWithCopyWarning:\n",
      "\n",
      "\n",
      "A value is trying to be set on a copy of a slice from a DataFrame\n",
      "\n",
      "See the caveats in the documentation: https://pandas.pydata.org/pandas-docs/stable/user_guide/indexing.html#returning-a-view-versus-a-copy\n",
      "\n"
     ]
    },
    {
     "name": "stdout",
     "output_type": "stream",
     "text": [
      "Shape of mu : (90, 1)\n",
      "Shape of sigma : (90, 90)\n",
      "Shape of the Matrix for Binary tranformation : (90, 90)\n",
      "Run in 3.495 seconds.\n",
      "Number of selected assets in the portfolio : 15\n",
      "t0 : 1780\n",
      "There are 97 tickers before Optimization\n"
     ]
    },
    {
     "name": "stderr",
     "output_type": "stream",
     "text": [
      "<ipython-input-11-e06b9047c178>:18: SettingWithCopyWarning:\n",
      "\n",
      "\n",
      "A value is trying to be set on a copy of a slice from a DataFrame\n",
      "\n",
      "See the caveats in the documentation: https://pandas.pydata.org/pandas-docs/stable/user_guide/indexing.html#returning-a-view-versus-a-copy\n",
      "\n"
     ]
    },
    {
     "name": "stdout",
     "output_type": "stream",
     "text": [
      "Shape of mu : (97, 1)\n",
      "Shape of sigma : (97, 97)\n",
      "Shape of the Matrix for Binary tranformation : (97, 97)\n",
      "Run in 2.216 seconds.\n",
      "Number of selected assets in the portfolio : 19\n",
      "t0 : 1800\n",
      "There are 96 tickers before Optimization\n"
     ]
    },
    {
     "name": "stderr",
     "output_type": "stream",
     "text": [
      "<ipython-input-11-e06b9047c178>:18: SettingWithCopyWarning:\n",
      "\n",
      "\n",
      "A value is trying to be set on a copy of a slice from a DataFrame\n",
      "\n",
      "See the caveats in the documentation: https://pandas.pydata.org/pandas-docs/stable/user_guide/indexing.html#returning-a-view-versus-a-copy\n",
      "\n"
     ]
    },
    {
     "name": "stdout",
     "output_type": "stream",
     "text": [
      "Shape of mu : (96, 1)\n",
      "Shape of sigma : (96, 96)\n",
      "Shape of the Matrix for Binary tranformation : (96, 96)\n",
      "Run in 3.174 seconds.\n",
      "Number of selected assets in the portfolio : 13\n",
      "t0 : 1820\n",
      "There are 97 tickers before Optimization\n"
     ]
    },
    {
     "name": "stderr",
     "output_type": "stream",
     "text": [
      "<ipython-input-11-e06b9047c178>:18: SettingWithCopyWarning:\n",
      "\n",
      "\n",
      "A value is trying to be set on a copy of a slice from a DataFrame\n",
      "\n",
      "See the caveats in the documentation: https://pandas.pydata.org/pandas-docs/stable/user_guide/indexing.html#returning-a-view-versus-a-copy\n",
      "\n"
     ]
    },
    {
     "name": "stdout",
     "output_type": "stream",
     "text": [
      "Shape of mu : (97, 1)\n",
      "Shape of sigma : (97, 97)\n",
      "Shape of the Matrix for Binary tranformation : (97, 97)\n",
      "Run in 4.757 seconds.\n",
      "Number of selected assets in the portfolio : 13\n",
      "t0 : 1840\n",
      "There are 98 tickers before Optimization\n"
     ]
    },
    {
     "name": "stderr",
     "output_type": "stream",
     "text": [
      "<ipython-input-11-e06b9047c178>:18: SettingWithCopyWarning:\n",
      "\n",
      "\n",
      "A value is trying to be set on a copy of a slice from a DataFrame\n",
      "\n",
      "See the caveats in the documentation: https://pandas.pydata.org/pandas-docs/stable/user_guide/indexing.html#returning-a-view-versus-a-copy\n",
      "\n"
     ]
    },
    {
     "name": "stdout",
     "output_type": "stream",
     "text": [
      "Shape of mu : (98, 1)\n",
      "Shape of sigma : (98, 98)\n",
      "Shape of the Matrix for Binary tranformation : (98, 98)\n",
      "Run in 4.139 seconds.\n",
      "Number of selected assets in the portfolio : 14\n",
      "t0 : 1860\n",
      "There are 95 tickers before Optimization\n"
     ]
    },
    {
     "name": "stderr",
     "output_type": "stream",
     "text": [
      "<ipython-input-11-e06b9047c178>:18: SettingWithCopyWarning:\n",
      "\n",
      "\n",
      "A value is trying to be set on a copy of a slice from a DataFrame\n",
      "\n",
      "See the caveats in the documentation: https://pandas.pydata.org/pandas-docs/stable/user_guide/indexing.html#returning-a-view-versus-a-copy\n",
      "\n"
     ]
    },
    {
     "name": "stdout",
     "output_type": "stream",
     "text": [
      "Shape of mu : (95, 1)\n",
      "Shape of sigma : (95, 95)\n",
      "Shape of the Matrix for Binary tranformation : (95, 95)\n",
      "Run in 3.721 seconds.\n",
      "Number of selected assets in the portfolio : 19\n",
      "t0 : 1880\n",
      "There are 94 tickers before Optimization\n"
     ]
    },
    {
     "name": "stderr",
     "output_type": "stream",
     "text": [
      "<ipython-input-11-e06b9047c178>:18: SettingWithCopyWarning:\n",
      "\n",
      "\n",
      "A value is trying to be set on a copy of a slice from a DataFrame\n",
      "\n",
      "See the caveats in the documentation: https://pandas.pydata.org/pandas-docs/stable/user_guide/indexing.html#returning-a-view-versus-a-copy\n",
      "\n"
     ]
    },
    {
     "name": "stdout",
     "output_type": "stream",
     "text": [
      "Shape of mu : (94, 1)\n",
      "Shape of sigma : (94, 94)\n",
      "Shape of the Matrix for Binary tranformation : (94, 94)\n",
      "Run in 3.394 seconds.\n",
      "Number of selected assets in the portfolio : 16\n",
      "t0 : 1900\n",
      "There are 91 tickers before Optimization\n"
     ]
    },
    {
     "name": "stderr",
     "output_type": "stream",
     "text": [
      "<ipython-input-11-e06b9047c178>:18: SettingWithCopyWarning:\n",
      "\n",
      "\n",
      "A value is trying to be set on a copy of a slice from a DataFrame\n",
      "\n",
      "See the caveats in the documentation: https://pandas.pydata.org/pandas-docs/stable/user_guide/indexing.html#returning-a-view-versus-a-copy\n",
      "\n"
     ]
    },
    {
     "name": "stdout",
     "output_type": "stream",
     "text": [
      "Shape of mu : (91, 1)\n",
      "Shape of sigma : (91, 91)\n",
      "Shape of the Matrix for Binary tranformation : (91, 91)\n",
      "Run in 2.697 seconds.\n",
      "Number of selected assets in the portfolio : 18\n",
      "t0 : 1920\n",
      "There are 92 tickers before Optimization\n"
     ]
    },
    {
     "name": "stderr",
     "output_type": "stream",
     "text": [
      "<ipython-input-11-e06b9047c178>:18: SettingWithCopyWarning:\n",
      "\n",
      "\n",
      "A value is trying to be set on a copy of a slice from a DataFrame\n",
      "\n",
      "See the caveats in the documentation: https://pandas.pydata.org/pandas-docs/stable/user_guide/indexing.html#returning-a-view-versus-a-copy\n",
      "\n"
     ]
    },
    {
     "name": "stdout",
     "output_type": "stream",
     "text": [
      "Shape of mu : (92, 1)\n",
      "Shape of sigma : (92, 92)\n",
      "Shape of the Matrix for Binary tranformation : (92, 92)\n",
      "Run in 2.762 seconds.\n",
      "Number of selected assets in the portfolio : 21\n",
      "t0 : 1940\n",
      "There are 98 tickers before Optimization\n"
     ]
    },
    {
     "name": "stderr",
     "output_type": "stream",
     "text": [
      "<ipython-input-11-e06b9047c178>:18: SettingWithCopyWarning:\n",
      "\n",
      "\n",
      "A value is trying to be set on a copy of a slice from a DataFrame\n",
      "\n",
      "See the caveats in the documentation: https://pandas.pydata.org/pandas-docs/stable/user_guide/indexing.html#returning-a-view-versus-a-copy\n",
      "\n"
     ]
    },
    {
     "name": "stdout",
     "output_type": "stream",
     "text": [
      "Shape of mu : (98, 1)\n",
      "Shape of sigma : (98, 98)\n",
      "Shape of the Matrix for Binary tranformation : (98, 98)\n",
      "Run in 4.919 seconds.\n",
      "Number of selected assets in the portfolio : 17\n",
      "t0 : 1960\n",
      "There are 102 tickers before Optimization\n"
     ]
    },
    {
     "name": "stderr",
     "output_type": "stream",
     "text": [
      "<ipython-input-11-e06b9047c178>:18: SettingWithCopyWarning:\n",
      "\n",
      "\n",
      "A value is trying to be set on a copy of a slice from a DataFrame\n",
      "\n",
      "See the caveats in the documentation: https://pandas.pydata.org/pandas-docs/stable/user_guide/indexing.html#returning-a-view-versus-a-copy\n",
      "\n"
     ]
    },
    {
     "name": "stdout",
     "output_type": "stream",
     "text": [
      "Shape of mu : (102, 1)\n",
      "Shape of sigma : (102, 102)\n",
      "Shape of the Matrix for Binary tranformation : (102, 102)\n",
      "Run in 3.977 seconds.\n",
      "Number of selected assets in the portfolio : 20\n",
      "t0 : 1980\n",
      "There are 96 tickers before Optimization\n"
     ]
    },
    {
     "name": "stderr",
     "output_type": "stream",
     "text": [
      "<ipython-input-11-e06b9047c178>:18: SettingWithCopyWarning:\n",
      "\n",
      "\n",
      "A value is trying to be set on a copy of a slice from a DataFrame\n",
      "\n",
      "See the caveats in the documentation: https://pandas.pydata.org/pandas-docs/stable/user_guide/indexing.html#returning-a-view-versus-a-copy\n",
      "\n"
     ]
    },
    {
     "name": "stdout",
     "output_type": "stream",
     "text": [
      "Shape of mu : (96, 1)\n",
      "Shape of sigma : (96, 96)\n",
      "Shape of the Matrix for Binary tranformation : (96, 96)\n",
      "Run in 3.117 seconds.\n",
      "Number of selected assets in the portfolio : 24\n",
      "t0 : 2000\n",
      "There are 93 tickers before Optimization\n"
     ]
    },
    {
     "name": "stderr",
     "output_type": "stream",
     "text": [
      "<ipython-input-11-e06b9047c178>:18: SettingWithCopyWarning:\n",
      "\n",
      "\n",
      "A value is trying to be set on a copy of a slice from a DataFrame\n",
      "\n",
      "See the caveats in the documentation: https://pandas.pydata.org/pandas-docs/stable/user_guide/indexing.html#returning-a-view-versus-a-copy\n",
      "\n"
     ]
    },
    {
     "name": "stdout",
     "output_type": "stream",
     "text": [
      "Shape of mu : (93, 1)\n",
      "Shape of sigma : (93, 93)\n",
      "Shape of the Matrix for Binary tranformation : (93, 93)\n",
      "Run in 2.278 seconds.\n",
      "Number of selected assets in the portfolio : 27\n",
      "t0 : 2020\n",
      "There are 95 tickers before Optimization\n"
     ]
    },
    {
     "name": "stderr",
     "output_type": "stream",
     "text": [
      "<ipython-input-11-e06b9047c178>:18: SettingWithCopyWarning:\n",
      "\n",
      "\n",
      "A value is trying to be set on a copy of a slice from a DataFrame\n",
      "\n",
      "See the caveats in the documentation: https://pandas.pydata.org/pandas-docs/stable/user_guide/indexing.html#returning-a-view-versus-a-copy\n",
      "\n"
     ]
    },
    {
     "name": "stdout",
     "output_type": "stream",
     "text": [
      "Shape of mu : (95, 1)\n",
      "Shape of sigma : (95, 95)\n",
      "Shape of the Matrix for Binary tranformation : (95, 95)\n",
      "Run in 2.21 seconds.\n",
      "Number of selected assets in the portfolio : 26\n",
      "t0 : 2040\n",
      "There are 108 tickers before Optimization\n"
     ]
    },
    {
     "name": "stderr",
     "output_type": "stream",
     "text": [
      "<ipython-input-11-e06b9047c178>:18: SettingWithCopyWarning:\n",
      "\n",
      "\n",
      "A value is trying to be set on a copy of a slice from a DataFrame\n",
      "\n",
      "See the caveats in the documentation: https://pandas.pydata.org/pandas-docs/stable/user_guide/indexing.html#returning-a-view-versus-a-copy\n",
      "\n"
     ]
    },
    {
     "name": "stdout",
     "output_type": "stream",
     "text": [
      "Shape of mu : (108, 1)\n",
      "Shape of sigma : (108, 108)\n",
      "Shape of the Matrix for Binary tranformation : (108, 108)\n",
      "Run in 2.878 seconds.\n",
      "Number of selected assets in the portfolio : 16\n",
      "t0 : 2060\n",
      "There are 118 tickers before Optimization\n"
     ]
    },
    {
     "name": "stderr",
     "output_type": "stream",
     "text": [
      "<ipython-input-11-e06b9047c178>:18: SettingWithCopyWarning:\n",
      "\n",
      "\n",
      "A value is trying to be set on a copy of a slice from a DataFrame\n",
      "\n",
      "See the caveats in the documentation: https://pandas.pydata.org/pandas-docs/stable/user_guide/indexing.html#returning-a-view-versus-a-copy\n",
      "\n"
     ]
    },
    {
     "name": "stdout",
     "output_type": "stream",
     "text": [
      "Shape of mu : (118, 1)\n",
      "Shape of sigma : (118, 118)\n",
      "Shape of the Matrix for Binary tranformation : (118, 118)\n",
      "Run in 3.937 seconds.\n",
      "Number of selected assets in the portfolio : 17\n",
      "t0 : 2080\n",
      "There are 121 tickers before Optimization\n"
     ]
    },
    {
     "name": "stderr",
     "output_type": "stream",
     "text": [
      "<ipython-input-11-e06b9047c178>:18: SettingWithCopyWarning:\n",
      "\n",
      "\n",
      "A value is trying to be set on a copy of a slice from a DataFrame\n",
      "\n",
      "See the caveats in the documentation: https://pandas.pydata.org/pandas-docs/stable/user_guide/indexing.html#returning-a-view-versus-a-copy\n",
      "\n"
     ]
    },
    {
     "name": "stdout",
     "output_type": "stream",
     "text": [
      "Shape of mu : (121, 1)\n",
      "Shape of sigma : (121, 121)\n",
      "Shape of the Matrix for Binary tranformation : (121, 121)\n",
      "Run in 2.818 seconds.\n",
      "Number of selected assets in the portfolio : 15\n",
      "t0 : 2100\n",
      "There are 119 tickers before Optimization\n"
     ]
    },
    {
     "name": "stderr",
     "output_type": "stream",
     "text": [
      "<ipython-input-11-e06b9047c178>:18: SettingWithCopyWarning:\n",
      "\n",
      "\n",
      "A value is trying to be set on a copy of a slice from a DataFrame\n",
      "\n",
      "See the caveats in the documentation: https://pandas.pydata.org/pandas-docs/stable/user_guide/indexing.html#returning-a-view-versus-a-copy\n",
      "\n"
     ]
    },
    {
     "name": "stdout",
     "output_type": "stream",
     "text": [
      "Shape of mu : (119, 1)\n",
      "Shape of sigma : (119, 119)\n",
      "Shape of the Matrix for Binary tranformation : (119, 119)\n",
      "Run in 3.772 seconds.\n",
      "Number of selected assets in the portfolio : 9\n",
      "t0 : 2120\n",
      "There are 110 tickers before Optimization\n"
     ]
    },
    {
     "name": "stderr",
     "output_type": "stream",
     "text": [
      "<ipython-input-11-e06b9047c178>:18: SettingWithCopyWarning:\n",
      "\n",
      "\n",
      "A value is trying to be set on a copy of a slice from a DataFrame\n",
      "\n",
      "See the caveats in the documentation: https://pandas.pydata.org/pandas-docs/stable/user_guide/indexing.html#returning-a-view-versus-a-copy\n",
      "\n"
     ]
    },
    {
     "name": "stdout",
     "output_type": "stream",
     "text": [
      "Shape of mu : (110, 1)\n",
      "Shape of sigma : (110, 110)\n",
      "Shape of the Matrix for Binary tranformation : (110, 110)\n",
      "Run in 6.245 seconds.\n",
      "Number of selected assets in the portfolio : 16\n",
      "t0 : 2140\n",
      "There are 110 tickers before Optimization\n"
     ]
    },
    {
     "name": "stderr",
     "output_type": "stream",
     "text": [
      "<ipython-input-11-e06b9047c178>:18: SettingWithCopyWarning:\n",
      "\n",
      "\n",
      "A value is trying to be set on a copy of a slice from a DataFrame\n",
      "\n",
      "See the caveats in the documentation: https://pandas.pydata.org/pandas-docs/stable/user_guide/indexing.html#returning-a-view-versus-a-copy\n",
      "\n"
     ]
    },
    {
     "name": "stdout",
     "output_type": "stream",
     "text": [
      "Shape of mu : (110, 1)\n",
      "Shape of sigma : (110, 110)\n",
      "Shape of the Matrix for Binary tranformation : (110, 110)\n",
      "Run in 3.278 seconds.\n",
      "Number of selected assets in the portfolio : 22\n",
      "t0 : 2160\n",
      "There are 107 tickers before Optimization\n"
     ]
    },
    {
     "name": "stderr",
     "output_type": "stream",
     "text": [
      "<ipython-input-11-e06b9047c178>:18: SettingWithCopyWarning:\n",
      "\n",
      "\n",
      "A value is trying to be set on a copy of a slice from a DataFrame\n",
      "\n",
      "See the caveats in the documentation: https://pandas.pydata.org/pandas-docs/stable/user_guide/indexing.html#returning-a-view-versus-a-copy\n",
      "\n"
     ]
    },
    {
     "name": "stdout",
     "output_type": "stream",
     "text": [
      "Shape of mu : (107, 1)\n",
      "Shape of sigma : (107, 107)\n",
      "Shape of the Matrix for Binary tranformation : (107, 107)\n",
      "Run in 2.916 seconds.\n",
      "Number of selected assets in the portfolio : 17\n",
      "t0 : 2180\n",
      "There are 101 tickers before Optimization\n"
     ]
    },
    {
     "name": "stderr",
     "output_type": "stream",
     "text": [
      "<ipython-input-11-e06b9047c178>:18: SettingWithCopyWarning:\n",
      "\n",
      "\n",
      "A value is trying to be set on a copy of a slice from a DataFrame\n",
      "\n",
      "See the caveats in the documentation: https://pandas.pydata.org/pandas-docs/stable/user_guide/indexing.html#returning-a-view-versus-a-copy\n",
      "\n"
     ]
    },
    {
     "name": "stdout",
     "output_type": "stream",
     "text": [
      "Shape of mu : (101, 1)\n",
      "Shape of sigma : (101, 101)\n",
      "Shape of the Matrix for Binary tranformation : (101, 101)\n",
      "Run in 2.071 seconds.\n",
      "Number of selected assets in the portfolio : 23\n",
      "t0 : 2200\n",
      "There are 102 tickers before Optimization\n"
     ]
    },
    {
     "name": "stderr",
     "output_type": "stream",
     "text": [
      "<ipython-input-11-e06b9047c178>:18: SettingWithCopyWarning:\n",
      "\n",
      "\n",
      "A value is trying to be set on a copy of a slice from a DataFrame\n",
      "\n",
      "See the caveats in the documentation: https://pandas.pydata.org/pandas-docs/stable/user_guide/indexing.html#returning-a-view-versus-a-copy\n",
      "\n"
     ]
    },
    {
     "name": "stdout",
     "output_type": "stream",
     "text": [
      "Shape of mu : (102, 1)\n",
      "Shape of sigma : (102, 102)\n",
      "Shape of the Matrix for Binary tranformation : (102, 102)\n",
      "Run in 3.568 seconds.\n",
      "Number of selected assets in the portfolio : 17\n",
      "t0 : 2220\n",
      "There are 93 tickers before Optimization\n"
     ]
    },
    {
     "name": "stderr",
     "output_type": "stream",
     "text": [
      "<ipython-input-11-e06b9047c178>:18: SettingWithCopyWarning:\n",
      "\n",
      "\n",
      "A value is trying to be set on a copy of a slice from a DataFrame\n",
      "\n",
      "See the caveats in the documentation: https://pandas.pydata.org/pandas-docs/stable/user_guide/indexing.html#returning-a-view-versus-a-copy\n",
      "\n"
     ]
    },
    {
     "name": "stdout",
     "output_type": "stream",
     "text": [
      "Shape of mu : (93, 1)\n",
      "Shape of sigma : (93, 93)\n",
      "Shape of the Matrix for Binary tranformation : (93, 93)\n",
      "Run in 2.693 seconds.\n",
      "Number of selected assets in the portfolio : 13\n",
      "t0 : 2240\n",
      "There are 101 tickers before Optimization\n"
     ]
    },
    {
     "name": "stderr",
     "output_type": "stream",
     "text": [
      "<ipython-input-11-e06b9047c178>:18: SettingWithCopyWarning:\n",
      "\n",
      "\n",
      "A value is trying to be set on a copy of a slice from a DataFrame\n",
      "\n",
      "See the caveats in the documentation: https://pandas.pydata.org/pandas-docs/stable/user_guide/indexing.html#returning-a-view-versus-a-copy\n",
      "\n"
     ]
    },
    {
     "name": "stdout",
     "output_type": "stream",
     "text": [
      "Shape of mu : (101, 1)\n",
      "Shape of sigma : (101, 101)\n",
      "Shape of the Matrix for Binary tranformation : (101, 101)\n",
      "Run in 2.56 seconds.\n",
      "Number of selected assets in the portfolio : 17\n",
      "t0 : 2260\n",
      "There are 102 tickers before Optimization\n"
     ]
    },
    {
     "name": "stderr",
     "output_type": "stream",
     "text": [
      "<ipython-input-11-e06b9047c178>:18: SettingWithCopyWarning:\n",
      "\n",
      "\n",
      "A value is trying to be set on a copy of a slice from a DataFrame\n",
      "\n",
      "See the caveats in the documentation: https://pandas.pydata.org/pandas-docs/stable/user_guide/indexing.html#returning-a-view-versus-a-copy\n",
      "\n"
     ]
    },
    {
     "name": "stdout",
     "output_type": "stream",
     "text": [
      "Shape of mu : (102, 1)\n",
      "Shape of sigma : (102, 102)\n",
      "Shape of the Matrix for Binary tranformation : (102, 102)\n",
      "Run in 2.986 seconds.\n",
      "Number of selected assets in the portfolio : 19\n",
      "t0 : 2280\n",
      "There are 105 tickers before Optimization\n"
     ]
    },
    {
     "name": "stderr",
     "output_type": "stream",
     "text": [
      "<ipython-input-11-e06b9047c178>:18: SettingWithCopyWarning:\n",
      "\n",
      "\n",
      "A value is trying to be set on a copy of a slice from a DataFrame\n",
      "\n",
      "See the caveats in the documentation: https://pandas.pydata.org/pandas-docs/stable/user_guide/indexing.html#returning-a-view-versus-a-copy\n",
      "\n"
     ]
    },
    {
     "name": "stdout",
     "output_type": "stream",
     "text": [
      "Shape of mu : (105, 1)\n",
      "Shape of sigma : (105, 105)\n",
      "Shape of the Matrix for Binary tranformation : (105, 105)\n",
      "Run in 2.856 seconds.\n",
      "Number of selected assets in the portfolio : 17\n",
      "t0 : 2300\n",
      "There are 104 tickers before Optimization\n"
     ]
    },
    {
     "name": "stderr",
     "output_type": "stream",
     "text": [
      "<ipython-input-11-e06b9047c178>:18: SettingWithCopyWarning:\n",
      "\n",
      "\n",
      "A value is trying to be set on a copy of a slice from a DataFrame\n",
      "\n",
      "See the caveats in the documentation: https://pandas.pydata.org/pandas-docs/stable/user_guide/indexing.html#returning-a-view-versus-a-copy\n",
      "\n"
     ]
    },
    {
     "name": "stdout",
     "output_type": "stream",
     "text": [
      "Shape of mu : (104, 1)\n",
      "Shape of sigma : (104, 104)\n",
      "Shape of the Matrix for Binary tranformation : (104, 104)\n",
      "Run in 2.148 seconds.\n",
      "Number of selected assets in the portfolio : 18\n",
      "t0 : 2320\n",
      "There are 115 tickers before Optimization\n"
     ]
    },
    {
     "name": "stderr",
     "output_type": "stream",
     "text": [
      "<ipython-input-11-e06b9047c178>:18: SettingWithCopyWarning:\n",
      "\n",
      "\n",
      "A value is trying to be set on a copy of a slice from a DataFrame\n",
      "\n",
      "See the caveats in the documentation: https://pandas.pydata.org/pandas-docs/stable/user_guide/indexing.html#returning-a-view-versus-a-copy\n",
      "\n"
     ]
    },
    {
     "name": "stdout",
     "output_type": "stream",
     "text": [
      "Shape of mu : (115, 1)\n",
      "Shape of sigma : (115, 115)\n",
      "Shape of the Matrix for Binary tranformation : (115, 115)\n",
      "Run in 2.229 seconds.\n",
      "Number of selected assets in the portfolio : 17\n",
      "t0 : 2340\n",
      "There are 114 tickers before Optimization\n"
     ]
    },
    {
     "name": "stderr",
     "output_type": "stream",
     "text": [
      "<ipython-input-11-e06b9047c178>:18: SettingWithCopyWarning:\n",
      "\n",
      "\n",
      "A value is trying to be set on a copy of a slice from a DataFrame\n",
      "\n",
      "See the caveats in the documentation: https://pandas.pydata.org/pandas-docs/stable/user_guide/indexing.html#returning-a-view-versus-a-copy\n",
      "\n"
     ]
    },
    {
     "name": "stdout",
     "output_type": "stream",
     "text": [
      "Shape of mu : (114, 1)\n",
      "Shape of sigma : (114, 114)\n",
      "Shape of the Matrix for Binary tranformation : (114, 114)\n",
      "Run in 3.354 seconds.\n",
      "Number of selected assets in the portfolio : 16\n",
      "t0 : 2360\n",
      "There are 113 tickers before Optimization\n"
     ]
    },
    {
     "name": "stderr",
     "output_type": "stream",
     "text": [
      "<ipython-input-11-e06b9047c178>:18: SettingWithCopyWarning:\n",
      "\n",
      "\n",
      "A value is trying to be set on a copy of a slice from a DataFrame\n",
      "\n",
      "See the caveats in the documentation: https://pandas.pydata.org/pandas-docs/stable/user_guide/indexing.html#returning-a-view-versus-a-copy\n",
      "\n"
     ]
    },
    {
     "name": "stdout",
     "output_type": "stream",
     "text": [
      "Shape of mu : (113, 1)\n",
      "Shape of sigma : (113, 113)\n",
      "Shape of the Matrix for Binary tranformation : (113, 113)\n",
      "Run in 3.064 seconds.\n",
      "Number of selected assets in the portfolio : 15\n",
      "t0 : 2380\n",
      "There are 120 tickers before Optimization\n"
     ]
    },
    {
     "name": "stderr",
     "output_type": "stream",
     "text": [
      "<ipython-input-11-e06b9047c178>:18: SettingWithCopyWarning:\n",
      "\n",
      "\n",
      "A value is trying to be set on a copy of a slice from a DataFrame\n",
      "\n",
      "See the caveats in the documentation: https://pandas.pydata.org/pandas-docs/stable/user_guide/indexing.html#returning-a-view-versus-a-copy\n",
      "\n"
     ]
    },
    {
     "name": "stdout",
     "output_type": "stream",
     "text": [
      "Shape of mu : (120, 1)\n",
      "Shape of sigma : (120, 120)\n",
      "Shape of the Matrix for Binary tranformation : (120, 120)\n",
      "Run in 2.134 seconds.\n",
      "Number of selected assets in the portfolio : 14\n",
      "t0 : 2400\n",
      "There are 126 tickers before Optimization\n"
     ]
    },
    {
     "name": "stderr",
     "output_type": "stream",
     "text": [
      "<ipython-input-11-e06b9047c178>:18: SettingWithCopyWarning:\n",
      "\n",
      "\n",
      "A value is trying to be set on a copy of a slice from a DataFrame\n",
      "\n",
      "See the caveats in the documentation: https://pandas.pydata.org/pandas-docs/stable/user_guide/indexing.html#returning-a-view-versus-a-copy\n",
      "\n"
     ]
    },
    {
     "name": "stdout",
     "output_type": "stream",
     "text": [
      "Shape of mu : (126, 1)\n",
      "Shape of sigma : (126, 126)\n",
      "Shape of the Matrix for Binary tranformation : (126, 126)\n",
      "Run in 2.242 seconds.\n",
      "Number of selected assets in the portfolio : 14\n",
      "t0 : 2420\n",
      "There are 134 tickers before Optimization\n"
     ]
    },
    {
     "name": "stderr",
     "output_type": "stream",
     "text": [
      "<ipython-input-11-e06b9047c178>:18: SettingWithCopyWarning:\n",
      "\n",
      "\n",
      "A value is trying to be set on a copy of a slice from a DataFrame\n",
      "\n",
      "See the caveats in the documentation: https://pandas.pydata.org/pandas-docs/stable/user_guide/indexing.html#returning-a-view-versus-a-copy\n",
      "\n"
     ]
    },
    {
     "name": "stdout",
     "output_type": "stream",
     "text": [
      "Shape of mu : (134, 1)\n",
      "Shape of sigma : (134, 134)\n",
      "Shape of the Matrix for Binary tranformation : (134, 134)\n",
      "Run in 2.776 seconds.\n",
      "Number of selected assets in the portfolio : 14\n",
      "t0 : 2440\n",
      "There are 136 tickers before Optimization\n"
     ]
    },
    {
     "name": "stderr",
     "output_type": "stream",
     "text": [
      "<ipython-input-11-e06b9047c178>:18: SettingWithCopyWarning:\n",
      "\n",
      "\n",
      "A value is trying to be set on a copy of a slice from a DataFrame\n",
      "\n",
      "See the caveats in the documentation: https://pandas.pydata.org/pandas-docs/stable/user_guide/indexing.html#returning-a-view-versus-a-copy\n",
      "\n"
     ]
    },
    {
     "name": "stdout",
     "output_type": "stream",
     "text": [
      "Shape of mu : (136, 1)\n",
      "Shape of sigma : (136, 136)\n",
      "Shape of the Matrix for Binary tranformation : (136, 136)\n",
      "Run in 3.366 seconds.\n",
      "Number of selected assets in the portfolio : 5\n",
      "t0 : 2460\n",
      "There are 142 tickers before Optimization\n"
     ]
    },
    {
     "name": "stderr",
     "output_type": "stream",
     "text": [
      "<ipython-input-11-e06b9047c178>:18: SettingWithCopyWarning:\n",
      "\n",
      "\n",
      "A value is trying to be set on a copy of a slice from a DataFrame\n",
      "\n",
      "See the caveats in the documentation: https://pandas.pydata.org/pandas-docs/stable/user_guide/indexing.html#returning-a-view-versus-a-copy\n",
      "\n"
     ]
    },
    {
     "name": "stdout",
     "output_type": "stream",
     "text": [
      "Shape of mu : (142, 1)\n",
      "Shape of sigma : (142, 142)\n",
      "Shape of the Matrix for Binary tranformation : (142, 142)\n",
      "Run in 3.6 seconds.\n",
      "Number of selected assets in the portfolio : 4\n",
      "t0 : 2480\n",
      "There are 146 tickers before Optimization\n"
     ]
    },
    {
     "name": "stderr",
     "output_type": "stream",
     "text": [
      "<ipython-input-11-e06b9047c178>:18: SettingWithCopyWarning:\n",
      "\n",
      "\n",
      "A value is trying to be set on a copy of a slice from a DataFrame\n",
      "\n",
      "See the caveats in the documentation: https://pandas.pydata.org/pandas-docs/stable/user_guide/indexing.html#returning-a-view-versus-a-copy\n",
      "\n"
     ]
    },
    {
     "name": "stdout",
     "output_type": "stream",
     "text": [
      "Shape of mu : (146, 1)\n",
      "Shape of sigma : (146, 146)\n",
      "Shape of the Matrix for Binary tranformation : (146, 146)\n",
      "Run in 3.615 seconds.\n",
      "Number of selected assets in the portfolio : 5\n",
      "t0 : 2500\n",
      "There are 153 tickers before Optimization\n"
     ]
    },
    {
     "name": "stderr",
     "output_type": "stream",
     "text": [
      "<ipython-input-11-e06b9047c178>:18: SettingWithCopyWarning:\n",
      "\n",
      "\n",
      "A value is trying to be set on a copy of a slice from a DataFrame\n",
      "\n",
      "See the caveats in the documentation: https://pandas.pydata.org/pandas-docs/stable/user_guide/indexing.html#returning-a-view-versus-a-copy\n",
      "\n"
     ]
    },
    {
     "name": "stdout",
     "output_type": "stream",
     "text": [
      "Shape of mu : (153, 1)\n",
      "Shape of sigma : (153, 153)\n",
      "Shape of the Matrix for Binary tranformation : (153, 153)\n",
      "Run in 3.296 seconds.\n",
      "Number of selected assets in the portfolio : 4\n",
      "t0 : 2520\n",
      "There are 153 tickers before Optimization\n"
     ]
    },
    {
     "name": "stderr",
     "output_type": "stream",
     "text": [
      "<ipython-input-11-e06b9047c178>:18: SettingWithCopyWarning:\n",
      "\n",
      "\n",
      "A value is trying to be set on a copy of a slice from a DataFrame\n",
      "\n",
      "See the caveats in the documentation: https://pandas.pydata.org/pandas-docs/stable/user_guide/indexing.html#returning-a-view-versus-a-copy\n",
      "\n"
     ]
    },
    {
     "name": "stdout",
     "output_type": "stream",
     "text": [
      "Shape of mu : (153, 1)\n",
      "Shape of sigma : (153, 153)\n",
      "Shape of the Matrix for Binary tranformation : (153, 153)\n",
      "Run in 3.914 seconds.\n",
      "Number of selected assets in the portfolio : 2\n",
      "t0 : 2540\n",
      "There are 155 tickers before Optimization\n"
     ]
    },
    {
     "name": "stderr",
     "output_type": "stream",
     "text": [
      "<ipython-input-11-e06b9047c178>:18: SettingWithCopyWarning:\n",
      "\n",
      "\n",
      "A value is trying to be set on a copy of a slice from a DataFrame\n",
      "\n",
      "See the caveats in the documentation: https://pandas.pydata.org/pandas-docs/stable/user_guide/indexing.html#returning-a-view-versus-a-copy\n",
      "\n"
     ]
    },
    {
     "name": "stdout",
     "output_type": "stream",
     "text": [
      "Shape of mu : (155, 1)\n",
      "Shape of sigma : (155, 155)\n",
      "Shape of the Matrix for Binary tranformation : (155, 155)\n",
      "Run in 2.915 seconds.\n",
      "Number of selected assets in the portfolio : 0\n",
      "t0 : 2560\n",
      "There are 159 tickers before Optimization\n"
     ]
    },
    {
     "name": "stderr",
     "output_type": "stream",
     "text": [
      "<ipython-input-11-e06b9047c178>:18: SettingWithCopyWarning:\n",
      "\n",
      "\n",
      "A value is trying to be set on a copy of a slice from a DataFrame\n",
      "\n",
      "See the caveats in the documentation: https://pandas.pydata.org/pandas-docs/stable/user_guide/indexing.html#returning-a-view-versus-a-copy\n",
      "\n"
     ]
    },
    {
     "name": "stdout",
     "output_type": "stream",
     "text": [
      "Shape of mu : (159, 1)\n",
      "Shape of sigma : (159, 159)\n",
      "Shape of the Matrix for Binary tranformation : (159, 159)\n",
      "Run in 2.987 seconds.\n",
      "Number of selected assets in the portfolio : 0\n",
      "t0 : 2580\n",
      "There are 162 tickers before Optimization\n"
     ]
    },
    {
     "name": "stderr",
     "output_type": "stream",
     "text": [
      "<ipython-input-11-e06b9047c178>:18: SettingWithCopyWarning:\n",
      "\n",
      "\n",
      "A value is trying to be set on a copy of a slice from a DataFrame\n",
      "\n",
      "See the caveats in the documentation: https://pandas.pydata.org/pandas-docs/stable/user_guide/indexing.html#returning-a-view-versus-a-copy\n",
      "\n"
     ]
    },
    {
     "name": "stdout",
     "output_type": "stream",
     "text": [
      "Shape of mu : (162, 1)\n",
      "Shape of sigma : (162, 162)\n",
      "Shape of the Matrix for Binary tranformation : (162, 162)\n",
      "Run in 3.42 seconds.\n",
      "Number of selected assets in the portfolio : 1\n",
      "t0 : 2600\n",
      "There are 171 tickers before Optimization\n"
     ]
    },
    {
     "name": "stderr",
     "output_type": "stream",
     "text": [
      "<ipython-input-11-e06b9047c178>:18: SettingWithCopyWarning:\n",
      "\n",
      "\n",
      "A value is trying to be set on a copy of a slice from a DataFrame\n",
      "\n",
      "See the caveats in the documentation: https://pandas.pydata.org/pandas-docs/stable/user_guide/indexing.html#returning-a-view-versus-a-copy\n",
      "\n"
     ]
    },
    {
     "name": "stdout",
     "output_type": "stream",
     "text": [
      "Shape of mu : (171, 1)\n",
      "Shape of sigma : (171, 171)\n",
      "Shape of the Matrix for Binary tranformation : (171, 171)\n",
      "Run in 3.429 seconds.\n",
      "Number of selected assets in the portfolio : 0\n",
      "t0 : 2620\n",
      "There are 168 tickers before Optimization\n"
     ]
    },
    {
     "name": "stderr",
     "output_type": "stream",
     "text": [
      "<ipython-input-11-e06b9047c178>:18: SettingWithCopyWarning:\n",
      "\n",
      "\n",
      "A value is trying to be set on a copy of a slice from a DataFrame\n",
      "\n",
      "See the caveats in the documentation: https://pandas.pydata.org/pandas-docs/stable/user_guide/indexing.html#returning-a-view-versus-a-copy\n",
      "\n"
     ]
    },
    {
     "name": "stdout",
     "output_type": "stream",
     "text": [
      "Shape of mu : (168, 1)\n",
      "Shape of sigma : (168, 168)\n",
      "Shape of the Matrix for Binary tranformation : (168, 168)\n",
      "Run in 3.228 seconds.\n",
      "Number of selected assets in the portfolio : 0\n",
      "t0 : 2640\n",
      "There are 169 tickers before Optimization\n"
     ]
    },
    {
     "name": "stderr",
     "output_type": "stream",
     "text": [
      "<ipython-input-11-e06b9047c178>:18: SettingWithCopyWarning:\n",
      "\n",
      "\n",
      "A value is trying to be set on a copy of a slice from a DataFrame\n",
      "\n",
      "See the caveats in the documentation: https://pandas.pydata.org/pandas-docs/stable/user_guide/indexing.html#returning-a-view-versus-a-copy\n",
      "\n"
     ]
    },
    {
     "name": "stdout",
     "output_type": "stream",
     "text": [
      "Shape of mu : (169, 1)\n",
      "Shape of sigma : (169, 169)\n",
      "Shape of the Matrix for Binary tranformation : (169, 169)\n",
      "Run in 3.519 seconds.\n",
      "Number of selected assets in the portfolio : 2\n",
      "t0 : 2660\n",
      "There are 165 tickers before Optimization\n"
     ]
    },
    {
     "name": "stderr",
     "output_type": "stream",
     "text": [
      "<ipython-input-11-e06b9047c178>:18: SettingWithCopyWarning:\n",
      "\n",
      "\n",
      "A value is trying to be set on a copy of a slice from a DataFrame\n",
      "\n",
      "See the caveats in the documentation: https://pandas.pydata.org/pandas-docs/stable/user_guide/indexing.html#returning-a-view-versus-a-copy\n",
      "\n"
     ]
    },
    {
     "name": "stdout",
     "output_type": "stream",
     "text": [
      "Shape of mu : (165, 1)\n",
      "Shape of sigma : (165, 165)\n",
      "Shape of the Matrix for Binary tranformation : (165, 165)\n",
      "Run in 2.901 seconds.\n",
      "Number of selected assets in the portfolio : 4\n",
      "t0 : 2680\n",
      "There are 165 tickers before Optimization\n"
     ]
    },
    {
     "name": "stderr",
     "output_type": "stream",
     "text": [
      "<ipython-input-11-e06b9047c178>:18: SettingWithCopyWarning:\n",
      "\n",
      "\n",
      "A value is trying to be set on a copy of a slice from a DataFrame\n",
      "\n",
      "See the caveats in the documentation: https://pandas.pydata.org/pandas-docs/stable/user_guide/indexing.html#returning-a-view-versus-a-copy\n",
      "\n"
     ]
    },
    {
     "name": "stdout",
     "output_type": "stream",
     "text": [
      "Shape of mu : (165, 1)\n",
      "Shape of sigma : (165, 165)\n",
      "Shape of the Matrix for Binary tranformation : (165, 165)\n",
      "Run in 3.459 seconds.\n",
      "Number of selected assets in the portfolio : 10\n",
      "t0 : 2700\n",
      "There are 162 tickers before Optimization\n"
     ]
    },
    {
     "name": "stderr",
     "output_type": "stream",
     "text": [
      "<ipython-input-11-e06b9047c178>:18: SettingWithCopyWarning:\n",
      "\n",
      "\n",
      "A value is trying to be set on a copy of a slice from a DataFrame\n",
      "\n",
      "See the caveats in the documentation: https://pandas.pydata.org/pandas-docs/stable/user_guide/indexing.html#returning-a-view-versus-a-copy\n",
      "\n"
     ]
    },
    {
     "name": "stdout",
     "output_type": "stream",
     "text": [
      "Shape of mu : (162, 1)\n",
      "Shape of sigma : (162, 162)\n",
      "Shape of the Matrix for Binary tranformation : (162, 162)\n",
      "Run in 3.958 seconds.\n",
      "Number of selected assets in the portfolio : 6\n",
      "t0 : 2720\n",
      "There are 153 tickers before Optimization\n"
     ]
    },
    {
     "name": "stderr",
     "output_type": "stream",
     "text": [
      "<ipython-input-11-e06b9047c178>:18: SettingWithCopyWarning:\n",
      "\n",
      "\n",
      "A value is trying to be set on a copy of a slice from a DataFrame\n",
      "\n",
      "See the caveats in the documentation: https://pandas.pydata.org/pandas-docs/stable/user_guide/indexing.html#returning-a-view-versus-a-copy\n",
      "\n"
     ]
    },
    {
     "name": "stdout",
     "output_type": "stream",
     "text": [
      "Shape of mu : (153, 1)\n",
      "Shape of sigma : (153, 153)\n",
      "Shape of the Matrix for Binary tranformation : (153, 153)\n",
      "Run in 2.756 seconds.\n",
      "Number of selected assets in the portfolio : 7\n",
      "t0 : 2740\n",
      "There are 146 tickers before Optimization\n"
     ]
    },
    {
     "name": "stderr",
     "output_type": "stream",
     "text": [
      "<ipython-input-11-e06b9047c178>:18: SettingWithCopyWarning:\n",
      "\n",
      "\n",
      "A value is trying to be set on a copy of a slice from a DataFrame\n",
      "\n",
      "See the caveats in the documentation: https://pandas.pydata.org/pandas-docs/stable/user_guide/indexing.html#returning-a-view-versus-a-copy\n",
      "\n"
     ]
    },
    {
     "name": "stdout",
     "output_type": "stream",
     "text": [
      "Shape of mu : (146, 1)\n",
      "Shape of sigma : (146, 146)\n",
      "Shape of the Matrix for Binary tranformation : (146, 146)\n",
      "Run in 3.239 seconds.\n",
      "Number of selected assets in the portfolio : 4\n",
      "t0 : 2760\n",
      "There are 148 tickers before Optimization\n"
     ]
    },
    {
     "name": "stderr",
     "output_type": "stream",
     "text": [
      "<ipython-input-11-e06b9047c178>:18: SettingWithCopyWarning:\n",
      "\n",
      "\n",
      "A value is trying to be set on a copy of a slice from a DataFrame\n",
      "\n",
      "See the caveats in the documentation: https://pandas.pydata.org/pandas-docs/stable/user_guide/indexing.html#returning-a-view-versus-a-copy\n",
      "\n"
     ]
    },
    {
     "name": "stdout",
     "output_type": "stream",
     "text": [
      "Shape of mu : (148, 1)\n",
      "Shape of sigma : (148, 148)\n",
      "Shape of the Matrix for Binary tranformation : (148, 148)\n",
      "Run in 2.67 seconds.\n",
      "Number of selected assets in the portfolio : 6\n",
      "t0 : 2780\n",
      "There are 147 tickers before Optimization\n"
     ]
    },
    {
     "name": "stderr",
     "output_type": "stream",
     "text": [
      "<ipython-input-11-e06b9047c178>:18: SettingWithCopyWarning:\n",
      "\n",
      "\n",
      "A value is trying to be set on a copy of a slice from a DataFrame\n",
      "\n",
      "See the caveats in the documentation: https://pandas.pydata.org/pandas-docs/stable/user_guide/indexing.html#returning-a-view-versus-a-copy\n",
      "\n"
     ]
    },
    {
     "name": "stdout",
     "output_type": "stream",
     "text": [
      "Shape of mu : (147, 1)\n",
      "Shape of sigma : (147, 147)\n",
      "Shape of the Matrix for Binary tranformation : (147, 147)\n",
      "Run in 3.174 seconds.\n",
      "Number of selected assets in the portfolio : 12\n",
      "t0 : 2800\n",
      "There are 138 tickers before Optimization\n"
     ]
    },
    {
     "name": "stderr",
     "output_type": "stream",
     "text": [
      "<ipython-input-11-e06b9047c178>:18: SettingWithCopyWarning:\n",
      "\n",
      "\n",
      "A value is trying to be set on a copy of a slice from a DataFrame\n",
      "\n",
      "See the caveats in the documentation: https://pandas.pydata.org/pandas-docs/stable/user_guide/indexing.html#returning-a-view-versus-a-copy\n",
      "\n"
     ]
    },
    {
     "name": "stdout",
     "output_type": "stream",
     "text": [
      "Shape of mu : (138, 1)\n",
      "Shape of sigma : (138, 138)\n",
      "Shape of the Matrix for Binary tranformation : (138, 138)\n",
      "Run in 3.186 seconds.\n",
      "Number of selected assets in the portfolio : 15\n",
      "t0 : 2820\n",
      "There are 123 tickers before Optimization\n"
     ]
    },
    {
     "name": "stderr",
     "output_type": "stream",
     "text": [
      "<ipython-input-11-e06b9047c178>:18: SettingWithCopyWarning:\n",
      "\n",
      "\n",
      "A value is trying to be set on a copy of a slice from a DataFrame\n",
      "\n",
      "See the caveats in the documentation: https://pandas.pydata.org/pandas-docs/stable/user_guide/indexing.html#returning-a-view-versus-a-copy\n",
      "\n"
     ]
    },
    {
     "name": "stdout",
     "output_type": "stream",
     "text": [
      "Shape of mu : (123, 1)\n",
      "Shape of sigma : (123, 123)\n",
      "Shape of the Matrix for Binary tranformation : (123, 123)\n",
      "Run in 2.896 seconds.\n",
      "Number of selected assets in the portfolio : 19\n",
      "t0 : 2840\n",
      "There are 117 tickers before Optimization\n"
     ]
    },
    {
     "name": "stderr",
     "output_type": "stream",
     "text": [
      "<ipython-input-11-e06b9047c178>:18: SettingWithCopyWarning:\n",
      "\n",
      "\n",
      "A value is trying to be set on a copy of a slice from a DataFrame\n",
      "\n",
      "See the caveats in the documentation: https://pandas.pydata.org/pandas-docs/stable/user_guide/indexing.html#returning-a-view-versus-a-copy\n",
      "\n"
     ]
    },
    {
     "name": "stdout",
     "output_type": "stream",
     "text": [
      "Shape of mu : (117, 1)\n",
      "Shape of sigma : (117, 117)\n",
      "Shape of the Matrix for Binary tranformation : (117, 117)\n",
      "Run in 3.197 seconds.\n",
      "Number of selected assets in the portfolio : 20\n",
      "t0 : 2860\n",
      "There are 122 tickers before Optimization\n"
     ]
    },
    {
     "name": "stderr",
     "output_type": "stream",
     "text": [
      "<ipython-input-11-e06b9047c178>:18: SettingWithCopyWarning:\n",
      "\n",
      "\n",
      "A value is trying to be set on a copy of a slice from a DataFrame\n",
      "\n",
      "See the caveats in the documentation: https://pandas.pydata.org/pandas-docs/stable/user_guide/indexing.html#returning-a-view-versus-a-copy\n",
      "\n"
     ]
    },
    {
     "name": "stdout",
     "output_type": "stream",
     "text": [
      "Shape of mu : (122, 1)\n",
      "Shape of sigma : (122, 122)\n",
      "Shape of the Matrix for Binary tranformation : (122, 122)\n",
      "Run in 2.285 seconds.\n",
      "Number of selected assets in the portfolio : 22\n",
      "t0 : 2880\n",
      "There are 123 tickers before Optimization\n"
     ]
    },
    {
     "name": "stderr",
     "output_type": "stream",
     "text": [
      "<ipython-input-11-e06b9047c178>:18: SettingWithCopyWarning:\n",
      "\n",
      "\n",
      "A value is trying to be set on a copy of a slice from a DataFrame\n",
      "\n",
      "See the caveats in the documentation: https://pandas.pydata.org/pandas-docs/stable/user_guide/indexing.html#returning-a-view-versus-a-copy\n",
      "\n"
     ]
    },
    {
     "name": "stdout",
     "output_type": "stream",
     "text": [
      "Shape of mu : (123, 1)\n",
      "Shape of sigma : (123, 123)\n",
      "Shape of the Matrix for Binary tranformation : (123, 123)\n",
      "Run in 2.403 seconds.\n",
      "Number of selected assets in the portfolio : 28\n",
      "t0 : 2900\n",
      "There are 121 tickers before Optimization\n"
     ]
    },
    {
     "name": "stderr",
     "output_type": "stream",
     "text": [
      "<ipython-input-11-e06b9047c178>:18: SettingWithCopyWarning:\n",
      "\n",
      "\n",
      "A value is trying to be set on a copy of a slice from a DataFrame\n",
      "\n",
      "See the caveats in the documentation: https://pandas.pydata.org/pandas-docs/stable/user_guide/indexing.html#returning-a-view-versus-a-copy\n",
      "\n"
     ]
    },
    {
     "name": "stdout",
     "output_type": "stream",
     "text": [
      "Shape of mu : (121, 1)\n",
      "Shape of sigma : (121, 121)\n",
      "Shape of the Matrix for Binary tranformation : (121, 121)\n",
      "Run in 2.752 seconds.\n",
      "Number of selected assets in the portfolio : 34\n",
      "t0 : 2920\n",
      "There are 123 tickers before Optimization\n"
     ]
    },
    {
     "name": "stderr",
     "output_type": "stream",
     "text": [
      "<ipython-input-11-e06b9047c178>:18: SettingWithCopyWarning:\n",
      "\n",
      "\n",
      "A value is trying to be set on a copy of a slice from a DataFrame\n",
      "\n",
      "See the caveats in the documentation: https://pandas.pydata.org/pandas-docs/stable/user_guide/indexing.html#returning-a-view-versus-a-copy\n",
      "\n"
     ]
    },
    {
     "name": "stdout",
     "output_type": "stream",
     "text": [
      "Shape of mu : (123, 1)\n",
      "Shape of sigma : (123, 123)\n",
      "Shape of the Matrix for Binary tranformation : (123, 123)\n",
      "Run in 2.43 seconds.\n",
      "Number of selected assets in the portfolio : 35\n",
      "t0 : 2940\n",
      "There are 123 tickers before Optimization\n"
     ]
    },
    {
     "name": "stderr",
     "output_type": "stream",
     "text": [
      "<ipython-input-11-e06b9047c178>:18: SettingWithCopyWarning:\n",
      "\n",
      "\n",
      "A value is trying to be set on a copy of a slice from a DataFrame\n",
      "\n",
      "See the caveats in the documentation: https://pandas.pydata.org/pandas-docs/stable/user_guide/indexing.html#returning-a-view-versus-a-copy\n",
      "\n"
     ]
    },
    {
     "name": "stdout",
     "output_type": "stream",
     "text": [
      "Shape of mu : (123, 1)\n",
      "Shape of sigma : (123, 123)\n",
      "Shape of the Matrix for Binary tranformation : (123, 123)\n",
      "Run in 3.249 seconds.\n",
      "Number of selected assets in the portfolio : 29\n",
      "t0 : 2960\n",
      "There are 128 tickers before Optimization\n"
     ]
    },
    {
     "name": "stderr",
     "output_type": "stream",
     "text": [
      "<ipython-input-11-e06b9047c178>:18: SettingWithCopyWarning:\n",
      "\n",
      "\n",
      "A value is trying to be set on a copy of a slice from a DataFrame\n",
      "\n",
      "See the caveats in the documentation: https://pandas.pydata.org/pandas-docs/stable/user_guide/indexing.html#returning-a-view-versus-a-copy\n",
      "\n"
     ]
    },
    {
     "name": "stdout",
     "output_type": "stream",
     "text": [
      "Shape of mu : (128, 1)\n",
      "Shape of sigma : (128, 128)\n",
      "Shape of the Matrix for Binary tranformation : (128, 128)\n",
      "Run in 5.441 seconds.\n",
      "Number of selected assets in the portfolio : 41\n",
      "t0 : 2980\n",
      "There are 131 tickers before Optimization\n"
     ]
    },
    {
     "name": "stderr",
     "output_type": "stream",
     "text": [
      "<ipython-input-11-e06b9047c178>:18: SettingWithCopyWarning:\n",
      "\n",
      "\n",
      "A value is trying to be set on a copy of a slice from a DataFrame\n",
      "\n",
      "See the caveats in the documentation: https://pandas.pydata.org/pandas-docs/stable/user_guide/indexing.html#returning-a-view-versus-a-copy\n",
      "\n"
     ]
    },
    {
     "name": "stdout",
     "output_type": "stream",
     "text": [
      "Shape of mu : (131, 1)\n",
      "Shape of sigma : (131, 131)\n",
      "Shape of the Matrix for Binary tranformation : (131, 131)\n",
      "Run in 3.42 seconds.\n",
      "Number of selected assets in the portfolio : 53\n",
      "t0 : 3000\n",
      "There are 131 tickers before Optimization\n"
     ]
    },
    {
     "name": "stderr",
     "output_type": "stream",
     "text": [
      "<ipython-input-11-e06b9047c178>:18: SettingWithCopyWarning:\n",
      "\n",
      "\n",
      "A value is trying to be set on a copy of a slice from a DataFrame\n",
      "\n",
      "See the caveats in the documentation: https://pandas.pydata.org/pandas-docs/stable/user_guide/indexing.html#returning-a-view-versus-a-copy\n",
      "\n"
     ]
    },
    {
     "name": "stdout",
     "output_type": "stream",
     "text": [
      "Shape of mu : (131, 1)\n",
      "Shape of sigma : (131, 131)\n",
      "Shape of the Matrix for Binary tranformation : (131, 131)\n",
      "Run in 7.723 seconds.\n",
      "Number of selected assets in the portfolio : 57\n",
      "t0 : 3020\n",
      "There are 131 tickers before Optimization\n"
     ]
    },
    {
     "name": "stderr",
     "output_type": "stream",
     "text": [
      "<ipython-input-11-e06b9047c178>:18: SettingWithCopyWarning:\n",
      "\n",
      "\n",
      "A value is trying to be set on a copy of a slice from a DataFrame\n",
      "\n",
      "See the caveats in the documentation: https://pandas.pydata.org/pandas-docs/stable/user_guide/indexing.html#returning-a-view-versus-a-copy\n",
      "\n"
     ]
    },
    {
     "name": "stdout",
     "output_type": "stream",
     "text": [
      "Shape of mu : (131, 1)\n",
      "Shape of sigma : (131, 131)\n",
      "Shape of the Matrix for Binary tranformation : (131, 131)\n",
      "Run in 2.118 seconds.\n",
      "Number of selected assets in the portfolio : 55\n",
      "t0 : 3040\n",
      "There are 130 tickers before Optimization\n"
     ]
    },
    {
     "name": "stderr",
     "output_type": "stream",
     "text": [
      "<ipython-input-11-e06b9047c178>:18: SettingWithCopyWarning:\n",
      "\n",
      "\n",
      "A value is trying to be set on a copy of a slice from a DataFrame\n",
      "\n",
      "See the caveats in the documentation: https://pandas.pydata.org/pandas-docs/stable/user_guide/indexing.html#returning-a-view-versus-a-copy\n",
      "\n"
     ]
    },
    {
     "name": "stdout",
     "output_type": "stream",
     "text": [
      "Shape of mu : (130, 1)\n",
      "Shape of sigma : (130, 130)\n",
      "Shape of the Matrix for Binary tranformation : (130, 130)\n",
      "Run in 3.229 seconds.\n",
      "Number of selected assets in the portfolio : 60\n",
      "t0 : 3060\n",
      "There are 134 tickers before Optimization\n"
     ]
    },
    {
     "name": "stderr",
     "output_type": "stream",
     "text": [
      "<ipython-input-11-e06b9047c178>:18: SettingWithCopyWarning:\n",
      "\n",
      "\n",
      "A value is trying to be set on a copy of a slice from a DataFrame\n",
      "\n",
      "See the caveats in the documentation: https://pandas.pydata.org/pandas-docs/stable/user_guide/indexing.html#returning-a-view-versus-a-copy\n",
      "\n"
     ]
    },
    {
     "name": "stdout",
     "output_type": "stream",
     "text": [
      "Shape of mu : (134, 1)\n",
      "Shape of sigma : (134, 134)\n",
      "Shape of the Matrix for Binary tranformation : (134, 134)\n",
      "Run in 3.999 seconds.\n",
      "Number of selected assets in the portfolio : 28\n",
      "t0 : 3080\n",
      "There are 142 tickers before Optimization\n"
     ]
    },
    {
     "name": "stderr",
     "output_type": "stream",
     "text": [
      "<ipython-input-11-e06b9047c178>:18: SettingWithCopyWarning:\n",
      "\n",
      "\n",
      "A value is trying to be set on a copy of a slice from a DataFrame\n",
      "\n",
      "See the caveats in the documentation: https://pandas.pydata.org/pandas-docs/stable/user_guide/indexing.html#returning-a-view-versus-a-copy\n",
      "\n"
     ]
    },
    {
     "name": "stdout",
     "output_type": "stream",
     "text": [
      "Shape of mu : (142, 1)\n",
      "Shape of sigma : (142, 142)\n",
      "Shape of the Matrix for Binary tranformation : (142, 142)\n",
      "Run in 3.972 seconds.\n",
      "Number of selected assets in the portfolio : 25\n",
      "t0 : 3100\n",
      "There are 149 tickers before Optimization\n"
     ]
    },
    {
     "name": "stderr",
     "output_type": "stream",
     "text": [
      "<ipython-input-11-e06b9047c178>:18: SettingWithCopyWarning:\n",
      "\n",
      "\n",
      "A value is trying to be set on a copy of a slice from a DataFrame\n",
      "\n",
      "See the caveats in the documentation: https://pandas.pydata.org/pandas-docs/stable/user_guide/indexing.html#returning-a-view-versus-a-copy\n",
      "\n"
     ]
    },
    {
     "name": "stdout",
     "output_type": "stream",
     "text": [
      "Shape of mu : (149, 1)\n",
      "Shape of sigma : (149, 149)\n",
      "Shape of the Matrix for Binary tranformation : (149, 149)\n",
      "Run in 4.193 seconds.\n",
      "Number of selected assets in the portfolio : 17\n",
      "t0 : 3120\n",
      "There are 145 tickers before Optimization\n"
     ]
    },
    {
     "name": "stderr",
     "output_type": "stream",
     "text": [
      "<ipython-input-11-e06b9047c178>:18: SettingWithCopyWarning:\n",
      "\n",
      "\n",
      "A value is trying to be set on a copy of a slice from a DataFrame\n",
      "\n",
      "See the caveats in the documentation: https://pandas.pydata.org/pandas-docs/stable/user_guide/indexing.html#returning-a-view-versus-a-copy\n",
      "\n"
     ]
    },
    {
     "name": "stdout",
     "output_type": "stream",
     "text": [
      "Shape of mu : (145, 1)\n",
      "Shape of sigma : (145, 145)\n",
      "Shape of the Matrix for Binary tranformation : (145, 145)\n",
      "Run in 3.933 seconds.\n",
      "Number of selected assets in the portfolio : 18\n",
      "t0 : 3140\n",
      "There are 156 tickers before Optimization\n"
     ]
    },
    {
     "name": "stderr",
     "output_type": "stream",
     "text": [
      "<ipython-input-11-e06b9047c178>:18: SettingWithCopyWarning:\n",
      "\n",
      "\n",
      "A value is trying to be set on a copy of a slice from a DataFrame\n",
      "\n",
      "See the caveats in the documentation: https://pandas.pydata.org/pandas-docs/stable/user_guide/indexing.html#returning-a-view-versus-a-copy\n",
      "\n"
     ]
    },
    {
     "name": "stdout",
     "output_type": "stream",
     "text": [
      "Shape of mu : (156, 1)\n",
      "Shape of sigma : (156, 156)\n",
      "Shape of the Matrix for Binary tranformation : (156, 156)\n",
      "Run in 4.154 seconds.\n",
      "Number of selected assets in the portfolio : 18\n",
      "Full simulation took 559.63 seconds to run\n"
     ]
    }
   ],
   "source": [
    "# Version François\n",
    "\n",
    "start_time = time.time()\n",
    "\n",
    "\n",
    "ptf=[] #This list stores each result dataframe from the simulationt\n",
    "portfolio_returns = [] # Store portfolio returns\n",
    "idx = 0 #Count interations\n",
    "all_sel_cols=[] #?\n",
    "\n",
    "for t1 in t1s:\n",
    "    t0=t1-T\n",
    "    t2 = t1+dT\n",
    "    print('t0 :', t0)\n",
    "    \n",
    "    window = rets.iloc[t0:t2]\n",
    "    \n",
    "    window.dropna(axis = 1, inplace = True)\n",
    "    \n",
    "    tickers = list(window.columns) # This is the list of tickers we are considering before optimisation\n",
    "    n_tickers = len(tickers) # Number of tickers before optimisation\n",
    "        \n",
    "    df_returns = rets.iloc[t0:t1] \n",
    "    df_returns = df_returns.loc[:, tickers]\n",
    "    \n",
    "    df_future_returns = rets.iloc[t1:t2]\n",
    "    df_future_returns = df_future_returns.loc[:, tickers]\n",
    "\n",
    "    print(\"There are {} tickers before Optimization\".format(n_tickers))\n",
    "    df_returns_values = df_returns.values #convert to numpy array\n",
    "    \n",
    "\n",
    "    \n",
    "    # Computation of the covariance matrix\n",
    "    sigma = bahc.filterCovariance(df_returns_values.T) #Why transpose ?\n",
    "    \n",
    "    \n",
    "    # Computation of expected returns\n",
    "\n",
    "    mu = df_returns.mean(axis=0)     # Sould we take compounded return instead?\n",
    "    mu = np.expand_dims(mu, axis=1)\n",
    "    print('Shape of mu :', mu.shape)\n",
    "    print('Shape of sigma :', sigma.shape)\n",
    "    \n",
    "    \n",
    "    \n",
    "    # Creation of a simualted bifurcation class (Here it is not optimized yet)\n",
    "    model = simulated_bifurcation(covariance = sigma, expected_return = mu, number_of_bits = alpha, assets_list = tickers)\n",
    "    print('Shape of the Matrix for Binary tranformation :', model.matrix.shape)\n",
    "    \n",
    "    # Running Simulated Bifurcation\n",
    "    model.optimize()\n",
    "    \n",
    "    result = model.portfolio['dataframe']\n",
    "    \n",
    "    ptf.append(result)\n",
    "    \n",
    "    # Computation of the weight\n",
    "    w = result.loc[:, 'ratios'].values / 100\n",
    "    \n",
    "    # Tickers kept\n",
    "    tickers_kept = list(result.loc[:, 'assets'])\n",
    "    \n",
    "    nb_assets_kept = (len(tickers_kept))\n",
    "    print('Number of selected assets in the portfolio :', nb_assets_kept)\n",
    "    \n",
    "    \n",
    "    proportion_of_asset_kepts = nb_assets_kept / sigma.shape[0]\n",
    "    \n",
    "    print('Proportion of assets kept : {} \\n\\n\\n'.format(proportion_of_assets_kept))\n",
    "\n",
    "    \n",
    "    # Computation of the portfolio return\n",
    "    expected_mu = np.array(df_future_returns.loc[:, tickers_kept].mean(axis = 0))\n",
    "    \n",
    "    portfolio_return = w @ expected_mu\n",
    "    \n",
    "    portfolio_returns.append(portfolio_return)\n",
    "\n",
    "\n",
    "\n",
    "delta = time.time() - start_time\n",
    "\n",
    "print('Full simulation took {:.2f} seconds to run'.format(delta))\n",
    "    \n"
   ]
  },
  {
   "cell_type": "code",
   "execution_count": 18,
   "metadata": {},
   "outputs": [
    {
     "data": {
      "text/html": [
       "<div>\n",
       "<style scoped>\n",
       "    .dataframe tbody tr th:only-of-type {\n",
       "        vertical-align: middle;\n",
       "    }\n",
       "\n",
       "    .dataframe tbody tr th {\n",
       "        vertical-align: top;\n",
       "    }\n",
       "\n",
       "    .dataframe thead th {\n",
       "        text-align: right;\n",
       "    }\n",
       "</style>\n",
       "<table border=\"1\" class=\"dataframe\">\n",
       "  <thead>\n",
       "    <tr style=\"text-align: right;\">\n",
       "      <th></th>\n",
       "      <th>assets</th>\n",
       "      <th>stocks</th>\n",
       "      <th>ratios</th>\n",
       "    </tr>\n",
       "  </thead>\n",
       "  <tbody>\n",
       "    <tr>\n",
       "      <th>0</th>\n",
       "      <td>AAPL</td>\n",
       "      <td>1.0</td>\n",
       "      <td>6.667</td>\n",
       "    </tr>\n",
       "    <tr>\n",
       "      <th>1</th>\n",
       "      <td>AET</td>\n",
       "      <td>1.0</td>\n",
       "      <td>6.667</td>\n",
       "    </tr>\n",
       "    <tr>\n",
       "      <th>2</th>\n",
       "      <td>BTU</td>\n",
       "      <td>1.0</td>\n",
       "      <td>6.667</td>\n",
       "    </tr>\n",
       "    <tr>\n",
       "      <th>3</th>\n",
       "      <td>CI</td>\n",
       "      <td>1.0</td>\n",
       "      <td>6.667</td>\n",
       "    </tr>\n",
       "    <tr>\n",
       "      <th>4</th>\n",
       "      <td>CME</td>\n",
       "      <td>1.0</td>\n",
       "      <td>6.667</td>\n",
       "    </tr>\n",
       "    <tr>\n",
       "      <th>5</th>\n",
       "      <td>GOOG</td>\n",
       "      <td>1.0</td>\n",
       "      <td>6.667</td>\n",
       "    </tr>\n",
       "    <tr>\n",
       "      <th>6</th>\n",
       "      <td>GPN</td>\n",
       "      <td>1.0</td>\n",
       "      <td>6.667</td>\n",
       "    </tr>\n",
       "    <tr>\n",
       "      <th>7</th>\n",
       "      <td>HP</td>\n",
       "      <td>1.0</td>\n",
       "      <td>6.667</td>\n",
       "    </tr>\n",
       "    <tr>\n",
       "      <th>8</th>\n",
       "      <td>ITRI</td>\n",
       "      <td>1.0</td>\n",
       "      <td>6.667</td>\n",
       "    </tr>\n",
       "    <tr>\n",
       "      <th>9</th>\n",
       "      <td>LM</td>\n",
       "      <td>1.0</td>\n",
       "      <td>6.667</td>\n",
       "    </tr>\n",
       "    <tr>\n",
       "      <th>10</th>\n",
       "      <td>MD</td>\n",
       "      <td>1.0</td>\n",
       "      <td>6.667</td>\n",
       "    </tr>\n",
       "    <tr>\n",
       "      <th>11</th>\n",
       "      <td>PGR</td>\n",
       "      <td>1.0</td>\n",
       "      <td>6.667</td>\n",
       "    </tr>\n",
       "    <tr>\n",
       "      <th>12</th>\n",
       "      <td>PSA</td>\n",
       "      <td>1.0</td>\n",
       "      <td>6.667</td>\n",
       "    </tr>\n",
       "    <tr>\n",
       "      <th>13</th>\n",
       "      <td>RGLD</td>\n",
       "      <td>1.0</td>\n",
       "      <td>6.667</td>\n",
       "    </tr>\n",
       "    <tr>\n",
       "      <th>14</th>\n",
       "      <td>TRV</td>\n",
       "      <td>1.0</td>\n",
       "      <td>6.667</td>\n",
       "    </tr>\n",
       "  </tbody>\n",
       "</table>\n",
       "</div>"
      ],
      "text/plain": [
       "   assets  stocks  ratios\n",
       "0    AAPL     1.0   6.667\n",
       "1     AET     1.0   6.667\n",
       "2     BTU     1.0   6.667\n",
       "3      CI     1.0   6.667\n",
       "4     CME     1.0   6.667\n",
       "5    GOOG     1.0   6.667\n",
       "6     GPN     1.0   6.667\n",
       "7      HP     1.0   6.667\n",
       "8    ITRI     1.0   6.667\n",
       "9      LM     1.0   6.667\n",
       "10     MD     1.0   6.667\n",
       "11    PGR     1.0   6.667\n",
       "12    PSA     1.0   6.667\n",
       "13   RGLD     1.0   6.667\n",
       "14    TRV     1.0   6.667"
      ]
     },
     "execution_count": 18,
     "metadata": {},
     "output_type": "execute_result"
    }
   ],
   "source": [
    "ptf[0]"
   ]
  },
  {
   "cell_type": "markdown",
   "metadata": {},
   "source": [
    "# Backtests"
   ]
  },
  {
   "cell_type": "code",
   "execution_count": 12,
   "metadata": {},
   "outputs": [
    {
     "data": {
      "text/plain": [
       "[1.002482034297846,\n",
       " 0.9983651530327712,\n",
       " 0.9999387824615896,\n",
       " 1.0025505955221152,\n",
       " 0.9939318472835076,\n",
       " 0.9994657645481833,\n",
       " 1.0005061348886672,\n",
       " 1.0002682220995187,\n",
       " 1.0011860765512641,\n",
       " 1.002603382087657,\n",
       " 1.0008700116355294,\n",
       " 1.0026535292191083,\n",
       " 1.0015294373675638,\n",
       " 1.0016676631110044,\n",
       " 0.9980375934711989,\n",
       " 1.001580288143838,\n",
       " 0.9993242682643979,\n",
       " 0.9996949435149983,\n",
       " 0.9998604554405286,\n",
       " 0.9965374773943635,\n",
       " 0.9996506817656235,\n",
       " 1.0046664502083344,\n",
       " 1.0026506793403989,\n",
       " 0.9960759299192989,\n",
       " 1.006330271124251,\n",
       " 0.9925745622548432,\n",
       " 1.0033560490823352,\n",
       " 0.994798525937305,\n",
       " 0.9993170304410391,\n",
       " 0.997889722223835,\n",
       " 1.0008733846520195,\n",
       " 1.003973584347926,\n",
       " 0.9979293729572858,\n",
       " 1.0,\n",
       " 1.0,\n",
       " 1.0,\n",
       " 1.0,\n",
       " 1.0,\n",
       " 1.0,\n",
       " 1.0,\n",
       " 1.0,\n",
       " 1.0,\n",
       " 1.0,\n",
       " 1.0,\n",
       " 1.0,\n",
       " 1.0,\n",
       " 1.0,\n",
       " 1.0,\n",
       " 1.0,\n",
       " 1.0,\n",
       " 1.0,\n",
       " 1.0,\n",
       " 1.0010934294857436,\n",
       " 1.0017238113524651,\n",
       " 0.9997986532844965,\n",
       " 0.9987823587834621,\n",
       " 0.9979640324408505,\n",
       " 0.9996571205023773,\n",
       " 1.0006652151449578,\n",
       " 1.0030526739601588,\n",
       " 1.0017452462426297,\n",
       " 1.0042841421513624,\n",
       " 1.000109637189016,\n",
       " 1.0038031681030906,\n",
       " 1.0015704675246422,\n",
       " 1.0037794803319227,\n",
       " 1.001242233928221,\n",
       " 1.000987269528355,\n",
       " 1.0005959602931187,\n",
       " 1.0049969696294225,\n",
       " 0.9907167063767037,\n",
       " 1.0055753395330693,\n",
       " 1.0,\n",
       " 1.0014330038457249,\n",
       " 0.9989873260905705,\n",
       " 1.0,\n",
       " 1.001748967662995,\n",
       " 1.0007074743424738,\n",
       " 1.0001658549572956,\n",
       " 1.000442624351855,\n",
       " 0.9989909459264741,\n",
       " 1.0,\n",
       " 1.0,\n",
       " 1.0007641224240569,\n",
       " 1.000936198575068,\n",
       " 0.9978541195031618,\n",
       " 1.001002349167219,\n",
       " 0.9998262804124607,\n",
       " 1.003428303458422,\n",
       " 0.9992549998753887,\n",
       " 1.0029758607925594,\n",
       " 1.0015566352524428,\n",
       " 1.001332504046776,\n",
       " 0.9979387072276603,\n",
       " 1.0025320475113044,\n",
       " 0.998168518058846,\n",
       " 1.0021264420070428,\n",
       " 1.001257449711706,\n",
       " 1.0015935848619735,\n",
       " 1.0013702288895527,\n",
       " 1.0015544261628078,\n",
       " 0.998979023101867,\n",
       " 1.0033075552545756,\n",
       " 0.9973264929437644,\n",
       " 1.0000829129968087,\n",
       " 1.0024015092397627,\n",
       " 1.0020749757766303,\n",
       " 0.9993313736812257,\n",
       " 1.0006210934599824,\n",
       " 0.9988976804942832,\n",
       " 0.9990376771882878,\n",
       " 1.002307839724737,\n",
       " 1.0016354517916688,\n",
       " 1.0001239299791778,\n",
       " 1.0009570553557339,\n",
       " 1.002125434150601,\n",
       " 0.9986275442697333,\n",
       " 0.9995660681556987,\n",
       " 0.9994815253136141,\n",
       " 1.001784385070222,\n",
       " 0.9993403298410187,\n",
       " 0.9973179653772327,\n",
       " 0.9976337662611112,\n",
       " 1.0018857403544223,\n",
       " 0.9990360127839019,\n",
       " 0.9964298304799618,\n",
       " 0.9937913156248639,\n",
       " 1.0,\n",
       " 1.0,\n",
       " 0.9946750793947173,\n",
       " 1.0,\n",
       " 1.0,\n",
       " 1.0010851671115402,\n",
       " 0.9981933644032001,\n",
       " 0.9994414293709507,\n",
       " 0.999306834972543,\n",
       " 0.9979668179832238,\n",
       " 1.0036085272561286,\n",
       " 1.0001307373176094,\n",
       " 1.0021105259840752,\n",
       " 1.0005322084376251,\n",
       " 0.9997155892890528,\n",
       " 1.0029773175322791,\n",
       " 1.0031676360084267,\n",
       " 0.999147514529973,\n",
       " 1.0004627600748754,\n",
       " 0.9999791223282559,\n",
       " 1.0008394042499338,\n",
       " 1.0013719581254665,\n",
       " 1.0017385600860427,\n",
       " 0.9987916253865396,\n",
       " 1.0032036796364803,\n",
       " 0.9984788681239576,\n",
       " 0.9998043982194438,\n",
       " 0.999853918947773,\n",
       " 1.0008985422144918,\n",
       " 1.0031755141444967,\n",
       " 0.9944517097875711]"
      ]
     },
     "execution_count": 12,
     "metadata": {},
     "output_type": "execute_result"
    }
   ],
   "source": [
    "# Defining the portfolio returns\n",
    "\n",
    "portfolio_returns = [r + 1 for r in portfolio_returns]\n",
    "portfolio_returns"
   ]
  },
  {
   "cell_type": "code",
   "execution_count": 16,
   "metadata": {},
   "outputs": [
    {
     "name": "stderr",
     "output_type": "stream",
     "text": [
      "No handles with labels found to put in legend.\n"
     ]
    },
    {
     "data": {
      "image/png": "[encoded data removed]",
      "text/plain": [
       "<Figure size 1296x864 with 1 Axes>"
      ]
     },
     "metadata": {
      "needs_background": "light"
     },
     "output_type": "display_data"
    }
   ],
   "source": [
    "plt.figure(figsize = (18,12))\n",
    "plt.title('Backtest', fontsize = 20)\n",
    "plt.xlabel('Time', fontsize = 18)\n",
    "plt.ylabel('Return', fontsize = 18)\n",
    "plt.legend()\n",
    "plt.plot(np.cumprod(portfolio_returns))\n",
    "plt.show()"
   ]
  },
  {
   "cell_type": "code",
   "execution_count": 22,
   "metadata": {},
   "outputs": [
    {
     "name": "stdout",
     "output_type": "stream",
     "text": [
      "Hi \n",
      " Hi\n"
     ]
    }
   ],
   "source": []
  },
  {
   "cell_type": "code",
   "execution_count": null,
   "metadata": {},
   "outputs": [],
   "source": []
  }
 ],
 "metadata": {
  "kernelspec": {
   "display_name": "Python 3",
   "language": "python",
   "name": "python3"
  },
  "language_info": {
   "codemirror_mode": {
    "name": "ipython",
    "version": 3
   },
   "file_extension": ".py",
   "mimetype": "text/x-python",
   "name": "python",
   "nbconvert_exporter": "python",
   "pygments_lexer": "ipython3",
   "version": "3.8.5"
  }
 },
 "nbformat": 4,
 "nbformat_minor": 5
}
